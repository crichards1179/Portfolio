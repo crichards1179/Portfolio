{
 "cells": [
  {
   "cell_type": "code",
   "execution_count": 1,
   "metadata": {},
   "outputs": [],
   "source": [
    "folder = 'C:\\\\Users\\\\a2glnzz\\\\Documents\\\\Regis\\\\Analytics\\\\week6\\\\'\n",
    "f = open(folder + 'plato.txt', 'r').read()\n",
    "\n",
    "import operator, re, string\n",
    "from nltk.corpus import stopwords\n"
   ]
  },
  {
   "cell_type": "code",
   "execution_count": 2,
   "metadata": {},
   "outputs": [
    {
     "data": {
      "text/plain": [
       "['ï',\n",
       " 'the',\n",
       " 'republic',\n",
       " 'persons',\n",
       " 'of',\n",
       " 'the',\n",
       " 'dialogue',\n",
       " 'socrates',\n",
       " 'who',\n",
       " 'is',\n",
       " 'the',\n",
       " 'narrator',\n",
       " 'glaucon',\n",
       " 'adeimantus',\n",
       " 'polemarchus',\n",
       " 'cephalus',\n",
       " 'thrasymachus',\n",
       " 'cleitophon',\n",
       " 'and',\n",
       " 'others',\n",
       " 'who',\n",
       " 'are',\n",
       " 'mute',\n",
       " 'auditors',\n",
       " 'the',\n",
       " 'scene',\n",
       " 'is',\n",
       " 'laid',\n",
       " 'in',\n",
       " 'the',\n",
       " 'house',\n",
       " 'of',\n",
       " 'cephalus',\n",
       " 'at',\n",
       " 'the',\n",
       " 'piraeus',\n",
       " 'and',\n",
       " 'the',\n",
       " 'whole',\n",
       " 'dialogue',\n",
       " 'is',\n",
       " 'narrated',\n",
       " 'by',\n",
       " 'socrates',\n",
       " 'the',\n",
       " 'day',\n",
       " 'after',\n",
       " 'it',\n",
       " 'actually',\n",
       " 'took']"
      ]
     },
     "execution_count": 2,
     "metadata": {},
     "output_type": "execute_result"
    }
   ],
   "source": [
    "f = f.lower()\n",
    "plato = f\n",
    "plato = re.split(r'\\W+', plato)\n",
    "plato[:50]"
   ]
  },
  {
   "cell_type": "code",
   "execution_count": 3,
   "metadata": {},
   "outputs": [
    {
     "name": "stdout",
     "output_type": "stream",
     "text": [
      "[nltk_data] Downloading package stopwords to\n",
      "[nltk_data]     C:\\Users\\a2glnzz\\AppData\\Roaming\\nltk_data...\n",
      "[nltk_data]   Package stopwords is already up-to-date!\n"
     ]
    },
    {
     "data": {
      "text/plain": [
       "['ï',\n",
       " 'republic',\n",
       " 'persons',\n",
       " 'dialogue',\n",
       " 'socrates',\n",
       " 'narrator',\n",
       " 'glaucon',\n",
       " 'adeimantus',\n",
       " 'polemarchus',\n",
       " 'cephalus',\n",
       " 'thrasymachus',\n",
       " 'cleitophon',\n",
       " 'others',\n",
       " 'mute',\n",
       " 'auditors',\n",
       " 'scene',\n",
       " 'laid',\n",
       " 'house',\n",
       " 'cephalus',\n",
       " 'piraeus',\n",
       " 'whole',\n",
       " 'dialogue',\n",
       " 'narrated',\n",
       " 'socrates',\n",
       " 'day',\n",
       " 'actually',\n",
       " 'took',\n",
       " 'place',\n",
       " 'timaeus',\n",
       " 'hermocrates',\n",
       " 'critias',\n",
       " 'nameless',\n",
       " 'person',\n",
       " 'introduced',\n",
       " 'timaeus',\n",
       " 'book',\n",
       " 'went',\n",
       " 'yesterday',\n",
       " 'piraeus',\n",
       " 'glaucon',\n",
       " 'son',\n",
       " 'ariston',\n",
       " 'might',\n",
       " 'offer',\n",
       " 'prayers',\n",
       " 'goddess',\n",
       " 'bendis',\n",
       " 'thracian',\n",
       " 'artemis',\n",
       " 'also']"
      ]
     },
     "execution_count": 3,
     "metadata": {},
     "output_type": "execute_result"
    }
   ],
   "source": [
    "import nltk\n",
    "nltk.download('stopwords')\n",
    "stop = stopwords.words('english')\n",
    "plato = [ j for j in plato if j not in stop]\n",
    "plato[:50]"
   ]
  },
  {
   "cell_type": "code",
   "execution_count": 4,
   "metadata": {},
   "outputs": [
    {
     "data": {
      "text/plain": [
       "['ï',\n",
       " 'republic',\n",
       " 'persons',\n",
       " 'dialogue',\n",
       " 'socrates',\n",
       " 'narrator',\n",
       " 'glaucon',\n",
       " 'adeimantus',\n",
       " 'polemarchus',\n",
       " 'cephalus',\n",
       " 'thrasymachus',\n",
       " 'cleitophon',\n",
       " 'others',\n",
       " 'mute',\n",
       " 'auditors',\n",
       " 'scene',\n",
       " 'laid',\n",
       " 'house',\n",
       " 'cephalus',\n",
       " 'piraeus',\n",
       " 'whole',\n",
       " 'dialogue',\n",
       " 'narrated',\n",
       " 'socrates',\n",
       " 'day',\n",
       " 'actually',\n",
       " 'took',\n",
       " 'place',\n",
       " 'timaeus',\n",
       " 'hermocrates',\n",
       " 'critias',\n",
       " 'nameless',\n",
       " 'person',\n",
       " 'introduced',\n",
       " 'timaeus',\n",
       " 'book',\n",
       " 'went',\n",
       " 'yesterday',\n",
       " 'piraeus',\n",
       " 'glaucon',\n",
       " 'son',\n",
       " 'ariston',\n",
       " 'might',\n",
       " 'offer',\n",
       " 'prayers',\n",
       " 'goddess',\n",
       " 'bendis',\n",
       " 'thracian',\n",
       " 'artemis',\n",
       " 'also']"
      ]
     },
     "execution_count": 4,
     "metadata": {},
     "output_type": "execute_result"
    }
   ],
   "source": [
    "remove_list = ['gutenberg', 'ebook', 'www', 'online']\n",
    "plato = [ j for j in plato if j not in remove_list]\n",
    "plato[:50]"
   ]
  },
  {
   "cell_type": "code",
   "execution_count": 5,
   "metadata": {},
   "outputs": [
    {
     "name": "stdout",
     "output_type": "stream",
     "text": [
      "[('said', 1047), ('one', 570), ('true', 486), ('yes', 448), ('good', 420), ('would', 410), ('may', 400), ('state', 372), ('man', 364), ('say', 337), ('must', 295), ('us', 281), ('like', 263), ('replied', 254), ('also', 235), ('certainly', 235), ('another', 232), ('men', 231), ('justice', 213), ('soul', 208), ('let', 202), ('shall', 196), ('nature', 181), ('whether', 177), ('life', 175), ('many', 171), ('well', 170), ('things', 166), ('way', 165), ('mean', 152), ('knowledge', 152), ('first', 150), ('make', 144), ('know', 144), ('see', 139), ('evil', 136), ('think', 133), ('right', 130), ('truth', 129), ('sort', 117), ('quite', 115), ('never', 115), ('unjust', 112), ('nothing', 111), ('better', 111), ('injustice', 111), ('reason', 111), ('others', 110), ('saying', 110), ('either', 110)]\n"
     ]
    }
   ],
   "source": [
    "new_plato = {}\n",
    "for new_word in plato:\n",
    "    if new_word in new_plato:\n",
    "        new_plato[new_word] += 1\n",
    "    else:\n",
    "        new_plato[new_word] = 1\n",
    "\n",
    "sorted_new_plato = sorted(new_plato.items(), key=operator.itemgetter(1), reverse = True)\n",
    "print(sorted_new_plato[:50])"
   ]
  },
  {
   "cell_type": "code",
   "execution_count": 6,
   "metadata": {},
   "outputs": [
    {
     "name": "stdout",
     "output_type": "stream",
     "text": [
      "('said', 1047)\n",
      "('one', 570)\n",
      "('true', 486)\n",
      "('yes', 448)\n",
      "('good', 420)\n",
      "('would', 410)\n",
      "('may', 400)\n",
      "('state', 372)\n",
      "('man', 364)\n",
      "('say', 337)\n",
      "('must', 295)\n",
      "('us', 281)\n",
      "('like', 263)\n",
      "('replied', 254)\n",
      "('also', 235)\n",
      "('certainly', 235)\n",
      "('another', 232)\n",
      "('men', 231)\n",
      "('justice', 213)\n",
      "('soul', 208)\n",
      "('let', 202)\n",
      "('shall', 196)\n",
      "('nature', 181)\n",
      "('whether', 177)\n",
      "('life', 175)\n"
     ]
    }
   ],
   "source": [
    "npopular = 25\n",
    "x = range(npopular)\n",
    "y = []\n",
    "for pair in range(npopular):\n",
    "    y=y + [sorted_new_plato[pair][1]]\n",
    "    print (sorted_new_plato[pair])"
   ]
  },
  {
   "cell_type": "code",
   "execution_count": 10,
   "metadata": {},
   "outputs": [
    {
     "data": {
      "image/png": "[encoded data removed]",
      "text/plain": [
       "<Figure size 864x864 with 1 Axes>"
      ]
     },
     "metadata": {
      "needs_background": "light"
     },
     "output_type": "display_data"
    }
   ],
   "source": [
    "## Simple WordCloud\n",
    "import matplotlib.pyplot as plt\n",
    "from wordcloud import WordCloud, STOPWORDS \n",
    "\n",
    "text = str(sorted_new_plato[:25])\n",
    "\n",
    "def generate_wordcloud(text): # optionally add: stopwords=STOPWORDS and change the arg below\n",
    "    wordcloud = WordCloud(\n",
    "                          relative_scaling = 1.0,\n",
    "                          stopwords = {'to', 'of'} # set or space-separated string\n",
    "                          ).generate(text)\n",
    "    fig = plt.figure(1, figsize=(12, 12))\n",
    "    plt.imshow(wordcloud)\n",
    "    plt.axis(\"off\")\n",
    "    plt.show()\n",
    "\n",
    "generate_wordcloud(text)"
   ]
  }
 ],
 "metadata": {
  "kernelspec": {
   "display_name": "Python 3",
   "language": "python",
   "name": "python3"
  },
  "language_info": {
   "codemirror_mode": {
    "name": "ipython",
    "version": 3
   },
   "file_extension": ".py",
   "mimetype": "text/x-python",
   "name": "python",
   "nbconvert_exporter": "python",
   "pygments_lexer": "ipython3",
   "version": "3.7.0"
  }
 },
 "nbformat": 4,
 "nbformat_minor": 2
}

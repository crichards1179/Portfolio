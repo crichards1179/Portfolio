{
 "cells": [
  {
   "cell_type": "code",
   "execution_count": 26,
   "metadata": {},
   "outputs": [],
   "source": [
    "# if you don't have this, install with\n",
    "# pip install textblob\n",
    "import textblob\n",
    "import pandas as pd\n",
    "# next line will show plots without calling plt.show()\n",
    "%matplotlib inline\n",
    "import matplotlib.pyplot as plt"
   ]
  },
  {
   "cell_type": "code",
   "execution_count": 5,
   "metadata": {},
   "outputs": [],
   "source": [
    "filepath = 'C:\\\\Users\\\\ngeorge\\\\Documents\\\\GitHub\\\\MSDS650-students\\\\assignments\\\\'\n",
    "df = pd.read_excel(filepath + 'trumptastic_hildog_tweets.xlsx')"
   ]
  },
  {
   "cell_type": "code",
   "execution_count": 6,
   "metadata": {},
   "outputs": [
    {
     "data": {
      "text/html": [
       "<div>\n",
       "<table border=\"1\" class=\"dataframe\">\n",
       "  <thead>\n",
       "    <tr style=\"text-align: right;\">\n",
       "      <th></th>\n",
       "      <th>handle</th>\n",
       "      <th>text</th>\n",
       "    </tr>\n",
       "  </thead>\n",
       "  <tbody>\n",
       "    <tr>\n",
       "      <th>0</th>\n",
       "      <td>HillaryClinton</td>\n",
       "      <td>The question in this election: Who can put the...</td>\n",
       "    </tr>\n",
       "    <tr>\n",
       "      <th>1</th>\n",
       "      <td>HillaryClinton</td>\n",
       "      <td>Last night, Donald Trump said not paying taxes...</td>\n",
       "    </tr>\n",
       "    <tr>\n",
       "      <th>2</th>\n",
       "      <td>HillaryClinton</td>\n",
       "      <td>Couldn't be more proud of @HillaryClinton. Her...</td>\n",
       "    </tr>\n",
       "    <tr>\n",
       "      <th>3</th>\n",
       "      <td>HillaryClinton</td>\n",
       "      <td>If we stand together, there's nothing we can't...</td>\n",
       "    </tr>\n",
       "    <tr>\n",
       "      <th>4</th>\n",
       "      <td>HillaryClinton</td>\n",
       "      <td>Both candidates were asked about how they'd co...</td>\n",
       "    </tr>\n",
       "  </tbody>\n",
       "</table>\n",
       "</div>"
      ],
      "text/plain": [
       "           handle                                               text\n",
       "0  HillaryClinton  The question in this election: Who can put the...\n",
       "1  HillaryClinton  Last night, Donald Trump said not paying taxes...\n",
       "2  HillaryClinton  Couldn't be more proud of @HillaryClinton. Her...\n",
       "3  HillaryClinton  If we stand together, there's nothing we can't...\n",
       "4  HillaryClinton  Both candidates were asked about how they'd co..."
      ]
     },
     "execution_count": 6,
     "metadata": {},
     "output_type": "execute_result"
    }
   ],
   "source": [
    "df.head()"
   ]
  },
  {
   "cell_type": "code",
   "execution_count": 40,
   "metadata": {},
   "outputs": [
    {
     "data": {
      "text/plain": [
       "HillaryClinton     3226\n",
       "realDonaldTrump    3218\n",
       "Name: handle, dtype: int64"
      ]
     },
     "execution_count": 40,
     "metadata": {},
     "output_type": "execute_result"
    }
   ],
   "source": [
    "df['handle'].value_counts()"
   ]
  },
  {
   "cell_type": "code",
   "execution_count": 10,
   "metadata": {},
   "outputs": [
    {
     "data": {
      "text/plain": [
       "'The question in this election: Who can put the plans into action that will make your life better? https://t.co/XreEY9OicG'"
      ]
     },
     "execution_count": 10,
     "metadata": {},
     "output_type": "execute_result"
    }
   ],
   "source": [
    "test = df.iloc[0]['text']\n",
    "test"
   ]
  },
  {
   "cell_type": "code",
   "execution_count": 11,
   "metadata": {},
   "outputs": [],
   "source": [
    "tb = textblob.TextBlob(test)"
   ]
  },
  {
   "cell_type": "code",
   "execution_count": 12,
   "metadata": {},
   "outputs": [
    {
     "data": {
      "text/plain": [
       "0.3"
      ]
     },
     "execution_count": 12,
     "metadata": {},
     "output_type": "execute_result"
    }
   ],
   "source": [
    "tb.polarity"
   ]
  },
  {
   "cell_type": "code",
   "execution_count": 13,
   "metadata": {
    "collapsed": true
   },
   "outputs": [],
   "source": [
    "def classify_sentiment(tweet):\n",
    "    tb = textblob.TextBlob(tweet)\n",
    "    return tb.polarity"
   ]
  },
  {
   "cell_type": "code",
   "execution_count": 14,
   "metadata": {
    "collapsed": true
   },
   "outputs": [],
   "source": [
    "df['polarity'] = df['text'].apply(lambda x: classify_sentiment(x))"
   ]
  },
  {
   "cell_type": "code",
   "execution_count": 36,
   "metadata": {},
   "outputs": [
    {
     "name": "stdout",
     "output_type": "stream",
     "text": [
      "0.3 HillaryClinton\n",
      "The question in this election: Who can put the plans into action that will make your life better? https://t.co/XreEY9OicG\n",
      "\n",
      "0.10714285714285714 HillaryClinton\n",
      "Last night, Donald Trump said not paying taxes was \"smart.\" You know what I call it? Unpatriotic. https://t.co/t0xmBfj7zF\n",
      "\n",
      "0.3 HillaryClinton\n",
      "Couldn't be more proud of @HillaryClinton. Her vision and command during last night's debate showed that she's ready to be our next @POTUS.\n",
      "\n",
      "0.35 HillaryClinton\n",
      "If we stand together, there's nothing we can't do. \r\n",
      "\r\n",
      "Make sure you're ready to vote: https://t.co/tTgeqxNqYm https://t.co/Q3Ymbb7UNy\n",
      "\n",
      "0.1 HillaryClinton\n",
      "Both candidates were asked about how they'd confront racial injustice. Only one had a real answer. https://t.co/sjnEokckis\n",
      "\n",
      "-0.125 realDonaldTrump\n",
      "Join me for a 3pm rally - tomorrow at the Mid-America Center in Council Bluffs, Iowa! Tickets:… https://t.co/dfzsbICiXc\n",
      "\n",
      "0.45 HillaryClinton\n",
      "This election is too important to sit out. Go to https://t.co/tTgeqxNqYm and make sure you're registered. #NationalVoterRegistrationDay -H\n",
      "\n",
      "0.0 HillaryClinton\n",
      "When Donald Trump goes low...register to vote: https://t.co/tTgeqxNqYm https://t.co/DXz9dEwsZS\n",
      "\n",
      "0.0 realDonaldTrump\n",
      "Once again, we will have a government of, by and for the people. Join the MOVEMENT today! https://t.co/lWjYDbPHav https://t.co/uYwJrtZkAe\n",
      "\n",
      "-0.03571428571428571 HillaryClinton\n",
      "3) Has Trump offered a single proposal to reduce the friction of starting a business. @HillaryClinton has https://t.co/OhFAFEFsUq\n",
      "\n",
      "-0.1 HillaryClinton\n",
      "The election is just weeks away. Check if you're registered to vote at https://t.co/HcMAh8ljR0, only takes a few cl… https://t.co/H1H7hAA4XM\n",
      "\n",
      "0.5 realDonaldTrump\n",
      "On National #VoterRegistrationDay, make sure you're registered to vote so we can #MakeAmericaGreatAgain… https://t.co/0wib6UEZON\n",
      "\n",
      "-0.4000000000000001 realDonaldTrump\n",
      "Hillary Clinton's Campaign Continues To Make False Claims About Foundation Disclosure: \r\n",
      "https://t.co/zhkEfUouHH\n",
      "\n",
      "0.25 realDonaldTrump\n",
      "'CNBC, Time magazine online polls say Donald Trump won the first presidential debate' via @WashTimes. #MAGA\r\n",
      "https://t.co/PGimqYKPoJ\n",
      "\n",
      "-0.016666666666666663 HillaryClinton\n",
      "Donald Trump lied to the American people at least 58 times during the first presidential debate. (We counted.) https://t.co/h43O6Rws4S\n",
      "\n",
      "0.2828125 realDonaldTrump\n",
      "Great afternoon in Little Havana with Hispanic community leaders. Thank you for your support! #ImWithYou https://t.co/vxWZ2tyJTF\n",
      "\n",
      "0.0 realDonaldTrump\n",
      "In the last 24 hrs. we have raised over $13M from online donations and National Call Day, and we’re still going! Thank you America! #MAGA\n",
      "\n",
      "0.2 HillaryClinton\n",
      "“She gained about 55 pounds in...9 months. She was like an eating machine.” —Trump, a man who wants to be president: https://t.co/1ht91eZCyw\n",
      "\n",
      "0.0 HillaryClinton\n",
      "It's #NationalVoterRegistrationDay. Celebrate by registering to vote ? https://t.co/tTgeqxNqYm https://t.co/R6lVvgLECG\n",
      "\n",
      "0.65 HillaryClinton\n",
      "\"I love this country.\r\n",
      "I’m proud of this country.\r\n",
      "I want to be a leader who brings people together.\"\r\n",
      "—Hillary #LoveTrumpsHate\n",
      "\n"
     ]
    }
   ],
   "source": [
    "for i, r in df.iterrows():\n",
    "    print(r['polarity'], r['handle'])\n",
    "    print(r['text'])\n",
    "    print() # blank line\n",
    "    # stops the loop at 20 iterations\n",
    "    if i == 19:\n",
    "        break"
   ]
  },
  {
   "cell_type": "code",
   "execution_count": 38,
   "metadata": {},
   "outputs": [
    {
     "name": "stdout",
     "output_type": "stream",
     "text": [
      "-1.0 realDonaldTrump\n",
      "I was viciously attacked by Mr. Khan at the Democratic Convention. Am I not allowed to respond? Hillary voted for the Iraq war, not me!\n",
      "\n",
      "-1.0 realDonaldTrump\n",
      "We just had the worst jobs report since 2010.\n",
      "\n",
      "-1.0 realDonaldTrump\n",
      "Pathetic attempt by @foxnews to try and build up ratings for the #GOPDebate. Without me they'd have no ratings! \r\n",
      "https://t.co/2bx54VKpQh\n",
      "\n",
      "-1.0 HillaryClinton\n",
      "Putting Donald Trump in charge of our economy would be devastating for working families.\r\n",
      "https://t.co/HP7grLtUIB\n",
      "\n",
      "-1.0 HillaryClinton\n",
      "Mike Pence’s governorship has been devastating to Indiana women. Just ask one of them: https://t.co/nu0DSiPQNf\n",
      "\n",
      "-1.0 realDonaldTrump\n",
      "\"@chgardens1: @mitchellvii Pathetic attempt to bribe @realDonaldTrump He can't be bought\"\n",
      "\n",
      "-1.0 realDonaldTrump\n",
      "We will repeal and replace the horrible disaster known as #Obamacare! https://t.co/YzRTPrqrNC\n",
      "\n",
      "-1.0 realDonaldTrump\n",
      "How quality a woman is Rowanne Brewer Lane to have exposed the @nytimes as a disgusting fraud?  Thank you Rowanne.\n",
      "\n",
      "-1.0 HillaryClinton\n",
      "The tools Donald Trump brings to the table—bragging, mocking, composing nasty tweets—won’t do the trick.\n",
      "\n",
      "-1.0 HillaryClinton\n",
      "Desperté con la devastadora noticia de FL. Mientras esperamos más información,mis pensamientos están con los afectados de este horrible acto\n",
      "\n"
     ]
    }
   ],
   "source": [
    "# look at the top 10 most negative tweets\n",
    "for i, r in df.sort_values(by='polarity').reset_index().iterrows():\n",
    "    print(r['polarity'], r['handle'])\n",
    "    print(r['text'])\n",
    "    print() # blank line\n",
    "    # stops the loop at 20 iterations\n",
    "    if i == 9:\n",
    "        break"
   ]
  },
  {
   "cell_type": "code",
   "execution_count": 39,
   "metadata": {},
   "outputs": [
    {
     "name": "stdout",
     "output_type": "stream",
     "text": [
      "1.0 HillaryClinton\n",
      "\"She is still the best darn changemaker I have ever known.” —@BillClinton on Hillary\n",
      "\n",
      "1.0 realDonaldTrump\n",
      "Thank you for your support! TOGETHER we will MAKE AMERICA GREAT AGAIN! \r\n",
      "https://t.co/fFN9pisyQ4 https://t.co/VxyuDwZmC9\n",
      "\n",
      "1.0 realDonaldTrump\n",
      "MAKE AMERICA GREAT AGAIN! https://t.co/IVSR0hmh5g\n",
      "\n",
      "1.0 realDonaldTrump\n",
      "Thank you for the incredible support- Melania, Barron, Ivanka, Jared, Tiffany, Don, Vanessa, Eric, and Lara!\r\n",
      "https://t.co/mPGpPFiDl8\n",
      "\n",
      "1.0 HillaryClinton\n",
      "\"It was the greatest moment of my life...and the...conviction that my daughter had the best mother in the world” —Bill on Chelsea being born\n",
      "\n",
      "1.0 realDonaldTrump\n",
      "Great job once again by law enforcement! We are proud of them and should embrace them - without them, we don't have a country!\n",
      "\n",
      "1.0 realDonaldTrump\n",
      "Great poll! Thank you North Carolina! \r\n",
      "#VoteTrumpNC on 3/15!\r\n",
      "Trump 36%\r\n",
      "Cruz 18%\r\n",
      "Rubio 18%\r\n",
      "Carson 10%\r\n",
      "Kasich 7%\r\n",
      "Via @SurveyUSA\n",
      "\n",
      "1.0 realDonaldTrump\n",
      "Thank you Illinois! Great news! #VoteTrumpIL on 3/15!\r\n",
      "Trump 28%\r\n",
      "Cruz 15%\r\n",
      "Rubio 14%\r\n",
      "Kasich 13%\r\n",
      "Bush 8%\r\n",
      "Carson 6%\r\n",
      "Simon Poll/SIU\n",
      "\n",
      "1.0 HillaryClinton\n",
      "In a democracy, if you want to help the greatest number of people, you have to push for reform from both the outside-in and the inside-out.\n",
      "\n",
      "1.0 realDonaldTrump\n",
      "Thank you for a great day yesterday, Rhode Island! #VoteTrump\r\n",
      "https://t.co/nAlgNIIdyo\n",
      "\n"
     ]
    }
   ],
   "source": [
    "# look at the top 10 most positive tweets\n",
    "for i, r in df.sort_values(by='polarity', ascending=False).reset_index().iterrows():\n",
    "    print(r['polarity'], r['handle'])\n",
    "    print(r['text'])\n",
    "    print() # blank line\n",
    "    # stops the loop at 20 iterations\n",
    "    if i == 9:\n",
    "        break"
   ]
  },
  {
   "cell_type": "code",
   "execution_count": 32,
   "metadata": {},
   "outputs": [
    {
     "data": {
      "text/html": [
       "<div>\n",
       "<table border=\"1\" class=\"dataframe\">\n",
       "  <thead>\n",
       "    <tr style=\"text-align: right;\">\n",
       "      <th></th>\n",
       "      <th>polarity</th>\n",
       "    </tr>\n",
       "    <tr>\n",
       "      <th>handle</th>\n",
       "      <th></th>\n",
       "    </tr>\n",
       "  </thead>\n",
       "  <tbody>\n",
       "    <tr>\n",
       "      <th>HillaryClinton</th>\n",
       "      <td>0.115394</td>\n",
       "    </tr>\n",
       "    <tr>\n",
       "      <th>realDonaldTrump</th>\n",
       "      <td>0.146275</td>\n",
       "    </tr>\n",
       "  </tbody>\n",
       "</table>\n",
       "</div>"
      ],
      "text/plain": [
       "                 polarity\n",
       "handle                   \n",
       "HillaryClinton   0.115394\n",
       "realDonaldTrump  0.146275"
      ]
     },
     "execution_count": 32,
     "metadata": {},
     "output_type": "execute_result"
    }
   ],
   "source": [
    "candidates = df.groupby('handle')\n",
    "candidates.mean()"
   ]
  },
  {
   "cell_type": "code",
   "execution_count": 33,
   "metadata": {
    "collapsed": true
   },
   "outputs": [],
   "source": [
    "candidates = list(candidates)"
   ]
  },
  {
   "cell_type": "code",
   "execution_count": 22,
   "metadata": {},
   "outputs": [
    {
     "data": {
      "text/plain": [
       "'HillaryClinton'"
      ]
     },
     "execution_count": 22,
     "metadata": {},
     "output_type": "execute_result"
    }
   ],
   "source": [
    "candidates[0][0]"
   ]
  },
  {
   "cell_type": "code",
   "execution_count": 28,
   "metadata": {},
   "outputs": [
    {
     "data": {
      "image/png": "[encoded data removed]",
      "text/plain": [
       "<matplotlib.figure.Figure at 0xe149c50>"
      ]
     },
     "metadata": {},
     "output_type": "display_data"
    }
   ],
   "source": [
    "f = candidates[0][1]['polarity'].hist()\n",
    "t = plt.title('sentiment distribution for HilDog')"
   ]
  },
  {
   "cell_type": "code",
   "execution_count": 30,
   "metadata": {},
   "outputs": [
    {
     "data": {
      "image/png": "[encoded data removed]",
      "text/plain": [
       "<matplotlib.figure.Figure at 0x6fea828>"
      ]
     },
     "metadata": {},
     "output_type": "display_data"
    }
   ],
   "source": [
    "f = candidates[1][1]['polarity'].hist()\n",
    "t = plt.title('sentiment distribution for Trump')"
   ]
  },
  {
   "cell_type": "markdown",
   "metadata": {},
   "source": [
    "## Pros:\n",
    "* orders of magnitude faster than Aylien and Rapidminer\n",
    "* continuous distribution of sentiment rather than just negative, neutral, positive\n",
    "* unlimited number of classifications\n",
    "* could train our own sentiment classifier\n",
    "\n",
    "## Cons:\n",
    "* not as easy to learn\n",
    "* classification perhaps seems not as accurate as Aylien\n",
    "* would take extra effort to train our own classifier to get higher accuracy"
   ]
  },
  {
   "cell_type": "code",
   "execution_count": 45,
   "metadata": {},
   "outputs": [
    {
     "data": {
      "text/html": [
       "<div>\n",
       "<table border=\"1\" class=\"dataframe\">\n",
       "  <thead>\n",
       "    <tr style=\"text-align: right;\">\n",
       "      <th></th>\n",
       "      <th>text</th>\n",
       "      <th>handle</th>\n",
       "      <th>polarity</th>\n",
       "      <th>subjectivity</th>\n",
       "      <th>polarity_confidence</th>\n",
       "      <th>subjectivity_confidence</th>\n",
       "    </tr>\n",
       "  </thead>\n",
       "  <tbody>\n",
       "    <tr>\n",
       "      <th>0</th>\n",
       "      <td>When we stand together - as white, black and h...</td>\n",
       "      <td>HillaryClinton</td>\n",
       "      <td>negative</td>\n",
       "      <td>subjective</td>\n",
       "      <td>0.575071</td>\n",
       "      <td>1.000000</td>\n",
       "    </tr>\n",
       "    <tr>\n",
       "      <th>1</th>\n",
       "      <td>“We have to face the world as it is but commit...</td>\n",
       "      <td>HillaryClinton</td>\n",
       "      <td>neutral</td>\n",
       "      <td>subjective</td>\n",
       "      <td>0.529633</td>\n",
       "      <td>1.000000</td>\n",
       "    </tr>\n",
       "    <tr>\n",
       "      <th>2</th>\n",
       "      <td>Immigrants aren’t somehow changing the America...</td>\n",
       "      <td>HillaryClinton</td>\n",
       "      <td>neutral</td>\n",
       "      <td>objective</td>\n",
       "      <td>0.947658</td>\n",
       "      <td>0.997346</td>\n",
       "    </tr>\n",
       "    <tr>\n",
       "      <th>3</th>\n",
       "      <td>I will be interviewed on @foxandfriends tomorr...</td>\n",
       "      <td>realDonaldTrump</td>\n",
       "      <td>positive</td>\n",
       "      <td>subjective</td>\n",
       "      <td>0.927834</td>\n",
       "      <td>1.000000</td>\n",
       "    </tr>\n",
       "    <tr>\n",
       "      <th>4</th>\n",
       "      <td>Imagine this man in charge of our men and wome...</td>\n",
       "      <td>HillaryClinton</td>\n",
       "      <td>neutral</td>\n",
       "      <td>objective</td>\n",
       "      <td>0.972369</td>\n",
       "      <td>0.998919</td>\n",
       "    </tr>\n",
       "  </tbody>\n",
       "</table>\n",
       "</div>"
      ],
      "text/plain": [
       "                                                text           handle  \\\n",
       "0  When we stand together - as white, black and h...   HillaryClinton   \n",
       "1  “We have to face the world as it is but commit...   HillaryClinton   \n",
       "2  Immigrants aren’t somehow changing the America...   HillaryClinton   \n",
       "3  I will be interviewed on @foxandfriends tomorr...  realDonaldTrump   \n",
       "4  Imagine this man in charge of our men and wome...   HillaryClinton   \n",
       "\n",
       "   polarity subjectivity  polarity_confidence  subjectivity_confidence  \n",
       "0  negative   subjective             0.575071                 1.000000  \n",
       "1   neutral   subjective             0.529633                 1.000000  \n",
       "2   neutral    objective             0.947658                 0.997346  \n",
       "3  positive   subjective             0.927834                 1.000000  \n",
       "4   neutral    objective             0.972369                 0.998919  "
      ]
     },
     "execution_count": 45,
     "metadata": {},
     "output_type": "execute_result"
    }
   ],
   "source": [
    "# now this will compare aylien's polarity with textblob\n",
    "# I saved the Aylien analysis from rapidminer\n",
    "df_a = pd.read_excel(filepath + 'trump_hil_tweet_sample_30each_polarity.xlsx')\n",
    "df_a.head()"
   ]
  },
  {
   "cell_type": "code",
   "execution_count": 46,
   "metadata": {
    "collapsed": true
   },
   "outputs": [],
   "source": [
    "df_a['tb_polarity'] = df_a['text'].apply(lambda x: classify_sentiment(x))"
   ]
  },
  {
   "cell_type": "code",
   "execution_count": 47,
   "metadata": {
    "collapsed": true
   },
   "outputs": [],
   "source": [
    "def round_polarity(pol):\n",
    "    \"\"\"\n",
    "    Takes a polarity in the range of [-1, 1], and classifies it as negative, neutral, or positive.\n",
    "    \"\"\"\n",
    "    if pol > 0:\n",
    "        return 'positive'\n",
    "    elif pol < 0:\n",
    "        return 'negative'\n",
    "    else:\n",
    "        return 'neutral'"
   ]
  },
  {
   "cell_type": "code",
   "execution_count": 48,
   "metadata": {
    "collapsed": true
   },
   "outputs": [],
   "source": [
    "df_a['tb_polarity_round'] = df_a['tb_polarity'].apply(lambda x: round_polarity(x))"
   ]
  },
  {
   "cell_type": "code",
   "execution_count": 49,
   "metadata": {},
   "outputs": [
    {
     "data": {
      "text/html": [
       "<div>\n",
       "<table border=\"1\" class=\"dataframe\">\n",
       "  <thead>\n",
       "    <tr style=\"text-align: right;\">\n",
       "      <th></th>\n",
       "      <th>text</th>\n",
       "      <th>handle</th>\n",
       "      <th>polarity</th>\n",
       "      <th>subjectivity</th>\n",
       "      <th>polarity_confidence</th>\n",
       "      <th>subjectivity_confidence</th>\n",
       "      <th>tb_polarity</th>\n",
       "      <th>tb_polarity_round</th>\n",
       "    </tr>\n",
       "  </thead>\n",
       "  <tbody>\n",
       "    <tr>\n",
       "      <th>0</th>\n",
       "      <td>When we stand together - as white, black and h...</td>\n",
       "      <td>HillaryClinton</td>\n",
       "      <td>negative</td>\n",
       "      <td>subjective</td>\n",
       "      <td>0.575071</td>\n",
       "      <td>1.000000</td>\n",
       "      <td>-0.07</td>\n",
       "      <td>negative</td>\n",
       "    </tr>\n",
       "    <tr>\n",
       "      <th>1</th>\n",
       "      <td>“We have to face the world as it is but commit...</td>\n",
       "      <td>HillaryClinton</td>\n",
       "      <td>neutral</td>\n",
       "      <td>subjective</td>\n",
       "      <td>0.529633</td>\n",
       "      <td>1.000000</td>\n",
       "      <td>0.00</td>\n",
       "      <td>neutral</td>\n",
       "    </tr>\n",
       "    <tr>\n",
       "      <th>2</th>\n",
       "      <td>Immigrants aren’t somehow changing the America...</td>\n",
       "      <td>HillaryClinton</td>\n",
       "      <td>neutral</td>\n",
       "      <td>objective</td>\n",
       "      <td>0.947658</td>\n",
       "      <td>0.997346</td>\n",
       "      <td>0.00</td>\n",
       "      <td>neutral</td>\n",
       "    </tr>\n",
       "    <tr>\n",
       "      <th>3</th>\n",
       "      <td>I will be interviewed on @foxandfriends tomorr...</td>\n",
       "      <td>realDonaldTrump</td>\n",
       "      <td>positive</td>\n",
       "      <td>subjective</td>\n",
       "      <td>0.927834</td>\n",
       "      <td>1.000000</td>\n",
       "      <td>0.50</td>\n",
       "      <td>positive</td>\n",
       "    </tr>\n",
       "    <tr>\n",
       "      <th>4</th>\n",
       "      <td>Imagine this man in charge of our men and wome...</td>\n",
       "      <td>HillaryClinton</td>\n",
       "      <td>neutral</td>\n",
       "      <td>objective</td>\n",
       "      <td>0.972369</td>\n",
       "      <td>0.998919</td>\n",
       "      <td>0.00</td>\n",
       "      <td>neutral</td>\n",
       "    </tr>\n",
       "  </tbody>\n",
       "</table>\n",
       "</div>"
      ],
      "text/plain": [
       "                                                text           handle  \\\n",
       "0  When we stand together - as white, black and h...   HillaryClinton   \n",
       "1  “We have to face the world as it is but commit...   HillaryClinton   \n",
       "2  Immigrants aren’t somehow changing the America...   HillaryClinton   \n",
       "3  I will be interviewed on @foxandfriends tomorr...  realDonaldTrump   \n",
       "4  Imagine this man in charge of our men and wome...   HillaryClinton   \n",
       "\n",
       "   polarity subjectivity  polarity_confidence  subjectivity_confidence  \\\n",
       "0  negative   subjective             0.575071                 1.000000   \n",
       "1   neutral   subjective             0.529633                 1.000000   \n",
       "2   neutral    objective             0.947658                 0.997346   \n",
       "3  positive   subjective             0.927834                 1.000000   \n",
       "4   neutral    objective             0.972369                 0.998919   \n",
       "\n",
       "   tb_polarity tb_polarity_round  \n",
       "0        -0.07          negative  \n",
       "1         0.00           neutral  \n",
       "2         0.00           neutral  \n",
       "3         0.50          positive  \n",
       "4         0.00           neutral  "
      ]
     },
     "execution_count": 49,
     "metadata": {},
     "output_type": "execute_result"
    }
   ],
   "source": [
    "df_a.head()"
   ]
  },
  {
   "cell_type": "code",
   "execution_count": 53,
   "metadata": {},
   "outputs": [],
   "source": [
    "mismatched = df_a[df_a['polarity'] != df_a['tb_polarity_round']]"
   ]
  },
  {
   "cell_type": "code",
   "execution_count": 54,
   "metadata": {},
   "outputs": [
    {
     "data": {
      "text/plain": [
       "(31, 8)"
      ]
     },
     "execution_count": 54,
     "metadata": {},
     "output_type": "execute_result"
    }
   ],
   "source": [
    "# half of the entries didn't match\n",
    "mismatched.shape"
   ]
  },
  {
   "cell_type": "code",
   "execution_count": 56,
   "metadata": {},
   "outputs": [
    {
     "data": {
      "text/plain": [
       "neutral     19\n",
       "negative     9\n",
       "positive     3\n",
       "Name: polarity, dtype: int64"
      ]
     },
     "execution_count": 56,
     "metadata": {},
     "output_type": "execute_result"
    }
   ],
   "source": [
    "mismatched['polarity'].value_counts()"
   ]
  },
  {
   "cell_type": "code",
   "execution_count": 64,
   "metadata": {},
   "outputs": [],
   "source": [
    "# this allows us to print more of the 'text' strings\n",
    "pd.options.display.max_colwidth = 150"
   ]
  },
  {
   "cell_type": "code",
   "execution_count": 65,
   "metadata": {},
   "outputs": [
    {
     "data": {
      "text/html": [
       "<div>\n",
       "<table border=\"1\" class=\"dataframe\">\n",
       "  <thead>\n",
       "    <tr style=\"text-align: right;\">\n",
       "      <th></th>\n",
       "      <th>polarity</th>\n",
       "      <th>tb_polarity</th>\n",
       "      <th>tb_polarity_round</th>\n",
       "      <th>text</th>\n",
       "    </tr>\n",
       "  </thead>\n",
       "  <tbody>\n",
       "    <tr>\n",
       "      <th>5</th>\n",
       "      <td>neutral</td>\n",
       "      <td>0.325000</td>\n",
       "      <td>positive</td>\n",
       "      <td>Did Trump use his charitable foundation to prevent a state attorney general from investigating his fraud? https://t.co/MZdZDzimY4</td>\n",
       "    </tr>\n",
       "    <tr>\n",
       "      <th>6</th>\n",
       "      <td>neutral</td>\n",
       "      <td>0.345238</td>\n",
       "      <td>positive</td>\n",
       "      <td>There's a reason the most hateful fringe of the right wing is supporting Donald Trump.\\r\\nhttps://t.co/AqB3DM2m0N</td>\n",
       "    </tr>\n",
       "    <tr>\n",
       "      <th>8</th>\n",
       "      <td>negative</td>\n",
       "      <td>0.250000</td>\n",
       "      <td>positive</td>\n",
       "      <td>We now have confirmation as to one reason Crooked H wanted to be sure that nobody saw her e-mails - PAY-FOR-PLAY. How can she run for Pres.</td>\n",
       "    </tr>\n",
       "    <tr>\n",
       "      <th>10</th>\n",
       "      <td>negative</td>\n",
       "      <td>0.000000</td>\n",
       "      <td>neutral</td>\n",
       "      <td>No such meeting or conversation ever happened - a made up story by \"low ratings\" @CNN.</td>\n",
       "    </tr>\n",
       "    <tr>\n",
       "      <th>11</th>\n",
       "      <td>neutral</td>\n",
       "      <td>0.500000</td>\n",
       "      <td>positive</td>\n",
       "      <td>22 memorable moments from the Democratic Convention that you probably missed: https://t.co/xnvFiEKlJC https://t.co/bLqoDfFfvc</td>\n",
       "    </tr>\n",
       "    <tr>\n",
       "      <th>12</th>\n",
       "      <td>neutral</td>\n",
       "      <td>-0.333333</td>\n",
       "      <td>negative</td>\n",
       "      <td>No, this seriously happened... https://t.co/kAptsQAWR1</td>\n",
       "    </tr>\n",
       "    <tr>\n",
       "      <th>13</th>\n",
       "      <td>positive</td>\n",
       "      <td>0.000000</td>\n",
       "      <td>neutral</td>\n",
       "      <td>Thank you Oklahoma &amp;amp; Virginia! \\r\\n#MakeAmericaGreatAgain #ImWithYou https://t.co/WUdY7feRvV</td>\n",
       "    </tr>\n",
       "    <tr>\n",
       "      <th>14</th>\n",
       "      <td>negative</td>\n",
       "      <td>0.000000</td>\n",
       "      <td>neutral</td>\n",
       "      <td>Every generation of Americans has come together to make our country freer, fairer, and stronger. None of us…can do it alone.” —Hillary</td>\n",
       "    </tr>\n",
       "    <tr>\n",
       "      <th>16</th>\n",
       "      <td>neutral</td>\n",
       "      <td>0.433333</td>\n",
       "      <td>positive</td>\n",
       "      <td>\"Bill, that conversation we started in the law library 45 years ago, it is still going strong.” —Hillary</td>\n",
       "    </tr>\n",
       "    <tr>\n",
       "      <th>17</th>\n",
       "      <td>negative</td>\n",
       "      <td>0.000000</td>\n",
       "      <td>neutral</td>\n",
       "      <td>\"She always feels like there isn’t a moment to lose because she knows that for that mother, for that family, there isn’t.” —@ChelseaClinton</td>\n",
       "    </tr>\n",
       "    <tr>\n",
       "      <th>18</th>\n",
       "      <td>neutral</td>\n",
       "      <td>0.083333</td>\n",
       "      <td>positive</td>\n",
       "      <td>\"That's a bunch of malarkey!\" —@JoeBiden, holding exactly nothing back last night. https://t.co/wsAbCgmljy</td>\n",
       "    </tr>\n",
       "    <tr>\n",
       "      <th>19</th>\n",
       "      <td>negative</td>\n",
       "      <td>0.000000</td>\n",
       "      <td>neutral</td>\n",
       "      <td>\"I believe we need a president who is a problem solver, not a bomb thrower.\" —@MikeBloomberg</td>\n",
       "    </tr>\n",
       "    <tr>\n",
       "      <th>20</th>\n",
       "      <td>positive</td>\n",
       "      <td>0.000000</td>\n",
       "      <td>neutral</td>\n",
       "      <td>“If you believe we are stronger together, then let’s work our hearts out to make Hillary Clinton the next president.” —@ElizabethForMA</td>\n",
       "    </tr>\n",
       "    <tr>\n",
       "      <th>21</th>\n",
       "      <td>neutral</td>\n",
       "      <td>0.312500</td>\n",
       "      <td>positive</td>\n",
       "      <td>I hope that Crooked Hillary picks Goofy Elizabeth Warren, sometimes referred to as Pocahontas, as her V.P. Then we can litigate her fraud!</td>\n",
       "    </tr>\n",
       "    <tr>\n",
       "      <th>23</th>\n",
       "      <td>neutral</td>\n",
       "      <td>0.500000</td>\n",
       "      <td>positive</td>\n",
       "      <td>I am pleased to announce that I have chosen Governor Mike Pence as my Vice Presidential running mate. News conference tomorrow at 11:00 A.M.</td>\n",
       "    </tr>\n",
       "    <tr>\n",
       "      <th>24</th>\n",
       "      <td>negative</td>\n",
       "      <td>0.000000</td>\n",
       "      <td>neutral</td>\n",
       "      <td>.@realDonaldTrump said a federal judge can't be trusted because of his \"Mexican heritage.\" That just fans the flames of racial division.</td>\n",
       "    </tr>\n",
       "    <tr>\n",
       "      <th>25</th>\n",
       "      <td>neutral</td>\n",
       "      <td>0.250000</td>\n",
       "      <td>positive</td>\n",
       "      <td>\"In my first 100 days…I will introduce comprehensive immigration reform with a path to citizenship.” —Hillary: https://t.co/JX8AWq6M7K</td>\n",
       "    </tr>\n",
       "    <tr>\n",
       "      <th>27</th>\n",
       "      <td>neutral</td>\n",
       "      <td>0.700000</td>\n",
       "      <td>positive</td>\n",
       "      <td>You have a problem when a candidate looks to Saddam Hussein and Kim Jong-un as examples of good leadership. https://t.co/T1nPQgSRQ7</td>\n",
       "    </tr>\n",
       "    <tr>\n",
       "      <th>28</th>\n",
       "      <td>negative</td>\n",
       "      <td>0.100000</td>\n",
       "      <td>positive</td>\n",
       "      <td>Trump got ahead by cheating working people like Andrew Tesoro. Now he wants to do the same thing to our country.\\r\\nhttps://t.co/un2YiRu3A5</td>\n",
       "    </tr>\n",
       "    <tr>\n",
       "      <th>29</th>\n",
       "      <td>neutral</td>\n",
       "      <td>0.800000</td>\n",
       "      <td>positive</td>\n",
       "      <td>Even the once great Caesars is bankrupt in A.C. Others to follow. Ask the Democrat City Council what happened to Atlantic City.</td>\n",
       "    </tr>\n",
       "    <tr>\n",
       "      <th>33</th>\n",
       "      <td>positive</td>\n",
       "      <td>0.000000</td>\n",
       "      <td>neutral</td>\n",
       "      <td>\"@Jolena3: @realDonaldTrump And we will get it back once we have President Trump! Can't wait!\"</td>\n",
       "    </tr>\n",
       "    <tr>\n",
       "      <th>34</th>\n",
       "      <td>neutral</td>\n",
       "      <td>0.042857</td>\n",
       "      <td>positive</td>\n",
       "      <td>Hillary says this election is about judgment.  She's right.  Her judgement has killed thousands, unleashed ISIS and wrecked the economy.</td>\n",
       "    </tr>\n",
       "    <tr>\n",
       "      <th>35</th>\n",
       "      <td>neutral</td>\n",
       "      <td>0.357143</td>\n",
       "      <td>positive</td>\n",
       "      <td>\"Our elections should be shaped by voters' voices—not bought and sold by corporations &amp;amp; special interests\" —Hillary: https://t.co/QUJomlql0N</td>\n",
       "    </tr>\n",
       "    <tr>\n",
       "      <th>43</th>\n",
       "      <td>neutral</td>\n",
       "      <td>-0.135185</td>\n",
       "      <td>negative</td>\n",
       "      <td>It’s about lifting each other up, not tearing each other down. https://t.co/mmmDVx0qZC</td>\n",
       "    </tr>\n",
       "    <tr>\n",
       "      <th>44</th>\n",
       "      <td>negative</td>\n",
       "      <td>0.133333</td>\n",
       "      <td>positive</td>\n",
       "      <td>We don't all look the same, or sound the same, or worship the same—and that's one of America's biggest strengths.\\r\\nhttps://t.co/m4CJ0NgBhq</td>\n",
       "    </tr>\n",
       "    <tr>\n",
       "      <th>46</th>\n",
       "      <td>neutral</td>\n",
       "      <td>0.250000</td>\n",
       "      <td>positive</td>\n",
       "      <td>Last chance #Wisconsin: Find your polling location for today's primary &amp;amp; go vote! Visit https://t.co/LC20hcigoQ ???? #Trump2016</td>\n",
       "    </tr>\n",
       "    <tr>\n",
       "      <th>50</th>\n",
       "      <td>neutral</td>\n",
       "      <td>0.125000</td>\n",
       "      <td>positive</td>\n",
       "      <td>\"@SassyPantsjj: Michigan GOP poll 2/24/2016 Trump 35.5 Rubio 15.0 Cruz 14.3 Kasich 12.8 Carson 8.3 @realDonaldTrump\" Wow!</td>\n",
       "    </tr>\n",
       "    <tr>\n",
       "      <th>52</th>\n",
       "      <td>neutral</td>\n",
       "      <td>0.035227</td>\n",
       "      <td>positive</td>\n",
       "      <td>Come join us at the Verizon Wireless Center- Manchester, New Hampshire on 2/8! Register now: https://t.co/xK5HYX226k https://t.co/zjRpnoV2ih</td>\n",
       "    </tr>\n",
       "    <tr>\n",
       "      <th>54</th>\n",
       "      <td>neutral</td>\n",
       "      <td>0.318182</td>\n",
       "      <td>positive</td>\n",
       "      <td>Trump winning over Latino Republicans, poll says | New York Post https://t.co/yiC3zavrmi</td>\n",
       "    </tr>\n",
       "    <tr>\n",
       "      <th>56</th>\n",
       "      <td>negative</td>\n",
       "      <td>0.080000</td>\n",
       "      <td>positive</td>\n",
       "      <td>Highly respected Constitutional law professor Mary Brigid McManamon has just stated, \"Ted Cruz is not eligible to be President.\" Big problem</td>\n",
       "    </tr>\n",
       "    <tr>\n",
       "      <th>59</th>\n",
       "      <td>neutral</td>\n",
       "      <td>0.625000</td>\n",
       "      <td>positive</td>\n",
       "      <td>Don’t like @SamuelLJackson’s golf swing.  Not athletic. I’ve won many club championships. Play him for charity!</td>\n",
       "    </tr>\n",
       "  </tbody>\n",
       "</table>\n",
       "</div>"
      ],
      "text/plain": [
       "    polarity  tb_polarity tb_polarity_round  \\\n",
       "5    neutral     0.325000          positive   \n",
       "6    neutral     0.345238          positive   \n",
       "8   negative     0.250000          positive   \n",
       "10  negative     0.000000           neutral   \n",
       "11   neutral     0.500000          positive   \n",
       "12   neutral    -0.333333          negative   \n",
       "13  positive     0.000000           neutral   \n",
       "14  negative     0.000000           neutral   \n",
       "16   neutral     0.433333          positive   \n",
       "17  negative     0.000000           neutral   \n",
       "18   neutral     0.083333          positive   \n",
       "19  negative     0.000000           neutral   \n",
       "20  positive     0.000000           neutral   \n",
       "21   neutral     0.312500          positive   \n",
       "23   neutral     0.500000          positive   \n",
       "24  negative     0.000000           neutral   \n",
       "25   neutral     0.250000          positive   \n",
       "27   neutral     0.700000          positive   \n",
       "28  negative     0.100000          positive   \n",
       "29   neutral     0.800000          positive   \n",
       "33  positive     0.000000           neutral   \n",
       "34   neutral     0.042857          positive   \n",
       "35   neutral     0.357143          positive   \n",
       "43   neutral    -0.135185          negative   \n",
       "44  negative     0.133333          positive   \n",
       "46   neutral     0.250000          positive   \n",
       "50   neutral     0.125000          positive   \n",
       "52   neutral     0.035227          positive   \n",
       "54   neutral     0.318182          positive   \n",
       "56  negative     0.080000          positive   \n",
       "59   neutral     0.625000          positive   \n",
       "\n",
       "                                                                                                                                                text  \n",
       "5                  Did Trump use his charitable foundation to prevent a state attorney general from investigating his fraud? https://t.co/MZdZDzimY4  \n",
       "6                                  There's a reason the most hateful fringe of the right wing is supporting Donald Trump.\\r\\nhttps://t.co/AqB3DM2m0N  \n",
       "8        We now have confirmation as to one reason Crooked H wanted to be sure that nobody saw her e-mails - PAY-FOR-PLAY. How can she run for Pres.  \n",
       "10                                                            No such meeting or conversation ever happened - a made up story by \"low ratings\" @CNN.  \n",
       "11                     22 memorable moments from the Democratic Convention that you probably missed: https://t.co/xnvFiEKlJC https://t.co/bLqoDfFfvc  \n",
       "12                                                                                            No, this seriously happened... https://t.co/kAptsQAWR1  \n",
       "13                                                  Thank you Oklahoma &amp; Virginia! \\r\\n#MakeAmericaGreatAgain #ImWithYou https://t.co/WUdY7feRvV  \n",
       "14            Every generation of Americans has come together to make our country freer, fairer, and stronger. None of us…can do it alone.” —Hillary  \n",
       "16                                          \"Bill, that conversation we started in the law library 45 years ago, it is still going strong.” —Hillary  \n",
       "17       \"She always feels like there isn’t a moment to lose because she knows that for that mother, for that family, there isn’t.” —@ChelseaClinton  \n",
       "18                                        \"That's a bunch of malarkey!\" —@JoeBiden, holding exactly nothing back last night. https://t.co/wsAbCgmljy  \n",
       "19                                                      \"I believe we need a president who is a problem solver, not a bomb thrower.\" —@MikeBloomberg  \n",
       "20            “If you believe we are stronger together, then let’s work our hearts out to make Hillary Clinton the next president.” —@ElizabethForMA  \n",
       "21        I hope that Crooked Hillary picks Goofy Elizabeth Warren, sometimes referred to as Pocahontas, as her V.P. Then we can litigate her fraud!  \n",
       "23      I am pleased to announce that I have chosen Governor Mike Pence as my Vice Presidential running mate. News conference tomorrow at 11:00 A.M.  \n",
       "24          .@realDonaldTrump said a federal judge can't be trusted because of his \"Mexican heritage.\" That just fans the flames of racial division.  \n",
       "25            \"In my first 100 days…I will introduce comprehensive immigration reform with a path to citizenship.” —Hillary: https://t.co/JX8AWq6M7K  \n",
       "27               You have a problem when a candidate looks to Saddam Hussein and Kim Jong-un as examples of good leadership. https://t.co/T1nPQgSRQ7  \n",
       "28       Trump got ahead by cheating working people like Andrew Tesoro. Now he wants to do the same thing to our country.\\r\\nhttps://t.co/un2YiRu3A5  \n",
       "29                   Even the once great Caesars is bankrupt in A.C. Others to follow. Ask the Democrat City Council what happened to Atlantic City.  \n",
       "33                                                    \"@Jolena3: @realDonaldTrump And we will get it back once we have President Trump! Can't wait!\"  \n",
       "34          Hillary says this election is about judgment.  She's right.  Her judgement has killed thousands, unleashed ISIS and wrecked the economy.  \n",
       "35  \"Our elections should be shaped by voters' voices—not bought and sold by corporations &amp; special interests\" —Hillary: https://t.co/QUJomlql0N  \n",
       "43                                                            It’s about lifting each other up, not tearing each other down. https://t.co/mmmDVx0qZC  \n",
       "44      We don't all look the same, or sound the same, or worship the same—and that's one of America's biggest strengths.\\r\\nhttps://t.co/m4CJ0NgBhq  \n",
       "46               Last chance #Wisconsin: Find your polling location for today's primary &amp; go vote! Visit https://t.co/LC20hcigoQ ???? #Trump2016  \n",
       "50                         \"@SassyPantsjj: Michigan GOP poll 2/24/2016 Trump 35.5 Rubio 15.0 Cruz 14.3 Kasich 12.8 Carson 8.3 @realDonaldTrump\" Wow!  \n",
       "52      Come join us at the Verizon Wireless Center- Manchester, New Hampshire on 2/8! Register now: https://t.co/xK5HYX226k https://t.co/zjRpnoV2ih  \n",
       "54                                                          Trump winning over Latino Republicans, poll says | New York Post https://t.co/yiC3zavrmi  \n",
       "56      Highly respected Constitutional law professor Mary Brigid McManamon has just stated, \"Ted Cruz is not eligible to be President.\" Big problem  \n",
       "59                                   Don’t like @SamuelLJackson’s golf swing.  Not athletic. I’ve won many club championships. Play him for charity!  "
      ]
     },
     "execution_count": 65,
     "metadata": {},
     "output_type": "execute_result"
    }
   ],
   "source": [
    "mismatched[['polarity', 'tb_polarity', 'tb_polarity_round', 'text']]"
   ]
  },
  {
   "cell_type": "markdown",
   "metadata": {},
   "source": [
    "## So we can see many of the mismatches are troubling.  Ideally we'd train our own sentiment classifier on a large dataset, like [this one](http://ai.stanford.edu/~amaas/data/sentiment/)."
   ]
  }
 ],
 "metadata": {
  "kernelspec": {
   "display_name": "Python 3",
   "language": "python",
   "name": "python3"
  },
  "language_info": {
   "codemirror_mode": {
    "name": "ipython",
    "version": 3
   },
   "file_extension": ".py",
   "mimetype": "text/x-python",
   "name": "python",
   "nbconvert_exporter": "python",
   "pygments_lexer": "ipython3",
   "version": "3.4.3"
  }
 },
 "nbformat": 4,
 "nbformat_minor": 2
}

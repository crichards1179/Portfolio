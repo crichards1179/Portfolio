{
 "cells": [
  {
   "cell_type": "markdown",
   "metadata": {},
   "source": [
    "# Week 7 Linear Regression\n",
    "### Chris Richards\n",
    "#### Regis University, Spring 2019, Data Collection and Preparation\n"
   ]
  },
  {
   "cell_type": "markdown",
   "metadata": {},
   "source": [
    "### Introduction\n",
    "For this assignment I chose a data set found on the UCI Repository of Machine Learning.  The data set is a collection of medical information collected from post-operative patients.  The original researchers collected this data for the purpose of creating a machine learning algorithim to predict the discharge status of patients after surgery.  \n",
    "  \n",
    "  My objective for the assignment is to clean the data, handle missing values, perform descriptive statistics and visualizations in order to explore the data.  Feature analysis will be conducted.  Once those steps are performed a suitable machine learning algorithim will be selected.  The model will be run, results analyzed and tuned for optimization.\n",
    "  #### What analysis question are we trying to answer?\n",
    "  Is it possible to predict the discharge status of a post-operative patient based on the following factors:\n",
    "    1. L-CORE (patient's internal temperature in C):\n",
    "              high (> 37), mid (>= 36 and <= 37), low (< 36)\n",
    "     2. L-SURF (patient's surface temperature in C):\n",
    "              high (> 36.5), mid (>= 36.5 and <= 35), low (< 35)\n",
    "     3. L-O2 (oxygen saturation in %):\n",
    "              excellent (>= 98), good (>= 90 and < 98),\n",
    "              fair (>= 80 and < 90), poor (< 80)\n",
    "     4. L-BP (last measurement of blood pressure):\n",
    "              high (> 130/90), mid (<= 130/90 and >= 90/70), low (< 90/70)\n",
    "     5. SURF-STBL (stability of patient's surface temperature):\n",
    "              stable, mod-stable, unstable\n",
    "     6. CORE-STBL (stability of patient's core temperature)\n",
    "              stable, mod-stable, unstable\n",
    "     7. BP-STBL (stability of patient's blood pressure)\n",
    "              stable, mod-stable, unstable\n",
    "     8. COMFORT (patient's perceived comfort at discharge, measured as\n",
    "              an integer between 0 and 20)"
   ]
  },
  {
   "cell_type": "code",
   "execution_count": 1,
   "metadata": {},
   "outputs": [
    {
     "name": "stdout",
     "output_type": "stream",
     "text": [
      "C:\\Users\\cr117\\Documents\\Regis\\Data_Collection\\Week7\n"
     ]
    }
   ],
   "source": [
    "# change working directory\n",
    "%cd \"C:\\Users\\cr117\\Documents\\Regis\\Data_Collection\\Week7\\\""
   ]
  },
  {
   "cell_type": "code",
   "execution_count": 2,
   "metadata": {},
   "outputs": [],
   "source": [
    "import pandas as pd, numpy as np, seaborn as sns, matplotlib.pyplot as plt, scipy.stats as stats\n",
    "from sklearn.linear_model import LinearRegression\n",
    "from sklearn import preprocessing\n",
    "from sklearn.metrics import mean_squared_error, r2_score\n",
    "\n",
    "%matplotlib inline\n",
    "\n",
    "sns.set() # sets seaborn defaults for plotting"
   ]
  },
  {
   "cell_type": "code",
   "execution_count": 3,
   "metadata": {},
   "outputs": [],
   "source": [
    "# Suppress a deprecation warning...\n",
    "\n",
    "import warnings\n",
    "warnings.filterwarnings('ignore')"
   ]
  },
  {
   "cell_type": "code",
   "execution_count": 4,
   "metadata": {},
   "outputs": [],
   "source": [
    "df = pd.read_csv('post-operative.data', header=None)"
   ]
  },
  {
   "cell_type": "code",
   "execution_count": 5,
   "metadata": {},
   "outputs": [
    {
     "name": "stdout",
     "output_type": "stream",
     "text": [
      "<class 'pandas.core.frame.DataFrame'>\n",
      "RangeIndex: 90 entries, 0 to 89\n",
      "Data columns (total 9 columns):\n",
      "0    90 non-null object\n",
      "1    90 non-null object\n",
      "2    90 non-null object\n",
      "3    90 non-null object\n",
      "4    90 non-null object\n",
      "5    90 non-null object\n",
      "6    90 non-null object\n",
      "7    90 non-null object\n",
      "8    90 non-null object\n",
      "dtypes: object(9)\n",
      "memory usage: 6.4+ KB\n"
     ]
    }
   ],
   "source": [
    "df.info()"
   ]
  },
  {
   "cell_type": "code",
   "execution_count": 6,
   "metadata": {},
   "outputs": [
    {
     "data": {
      "text/html": [
       "<div>\n",
       "<style scoped>\n",
       "    .dataframe tbody tr th:only-of-type {\n",
       "        vertical-align: middle;\n",
       "    }\n",
       "\n",
       "    .dataframe tbody tr th {\n",
       "        vertical-align: top;\n",
       "    }\n",
       "\n",
       "    .dataframe thead th {\n",
       "        text-align: right;\n",
       "    }\n",
       "</style>\n",
       "<table border=\"1\" class=\"dataframe\">\n",
       "  <thead>\n",
       "    <tr style=\"text-align: right;\">\n",
       "      <th></th>\n",
       "      <th>0</th>\n",
       "      <th>1</th>\n",
       "      <th>2</th>\n",
       "      <th>3</th>\n",
       "      <th>4</th>\n",
       "      <th>5</th>\n",
       "      <th>6</th>\n",
       "      <th>7</th>\n",
       "      <th>8</th>\n",
       "    </tr>\n",
       "  </thead>\n",
       "  <tbody>\n",
       "    <tr>\n",
       "      <th>0</th>\n",
       "      <td>mid</td>\n",
       "      <td>low</td>\n",
       "      <td>excellent</td>\n",
       "      <td>mid</td>\n",
       "      <td>stable</td>\n",
       "      <td>stable</td>\n",
       "      <td>stable</td>\n",
       "      <td>15</td>\n",
       "      <td>A</td>\n",
       "    </tr>\n",
       "    <tr>\n",
       "      <th>1</th>\n",
       "      <td>mid</td>\n",
       "      <td>high</td>\n",
       "      <td>excellent</td>\n",
       "      <td>high</td>\n",
       "      <td>stable</td>\n",
       "      <td>stable</td>\n",
       "      <td>stable</td>\n",
       "      <td>10</td>\n",
       "      <td>S</td>\n",
       "    </tr>\n",
       "    <tr>\n",
       "      <th>2</th>\n",
       "      <td>high</td>\n",
       "      <td>low</td>\n",
       "      <td>excellent</td>\n",
       "      <td>high</td>\n",
       "      <td>stable</td>\n",
       "      <td>stable</td>\n",
       "      <td>mod-stable</td>\n",
       "      <td>10</td>\n",
       "      <td>A</td>\n",
       "    </tr>\n",
       "    <tr>\n",
       "      <th>3</th>\n",
       "      <td>mid</td>\n",
       "      <td>low</td>\n",
       "      <td>good</td>\n",
       "      <td>high</td>\n",
       "      <td>stable</td>\n",
       "      <td>unstable</td>\n",
       "      <td>mod-stable</td>\n",
       "      <td>15</td>\n",
       "      <td>A</td>\n",
       "    </tr>\n",
       "    <tr>\n",
       "      <th>4</th>\n",
       "      <td>mid</td>\n",
       "      <td>mid</td>\n",
       "      <td>excellent</td>\n",
       "      <td>high</td>\n",
       "      <td>stable</td>\n",
       "      <td>stable</td>\n",
       "      <td>stable</td>\n",
       "      <td>10</td>\n",
       "      <td>A</td>\n",
       "    </tr>\n",
       "  </tbody>\n",
       "</table>\n",
       "</div>"
      ],
      "text/plain": [
       "      0     1          2     3       4         5           6   7   8\n",
       "0   mid   low  excellent   mid  stable    stable      stable  15   A\n",
       "1   mid  high  excellent  high  stable    stable      stable  10   S\n",
       "2  high   low  excellent  high  stable    stable  mod-stable  10   A\n",
       "3   mid   low       good  high  stable  unstable  mod-stable  15  A \n",
       "4   mid   mid  excellent  high  stable    stable      stable  10   A"
      ]
     },
     "execution_count": 6,
     "metadata": {},
     "output_type": "execute_result"
    }
   ],
   "source": [
    "df.head()"
   ]
  },
  {
   "cell_type": "markdown",
   "metadata": {},
   "source": [
    "#### Missing Data \n",
    "\n",
    "The documentation accompanying the data set indicates question marks were used to indicare missing data.  I'll use apply to with a lambda function and simple regex pattern to find the question marks."
   ]
  },
  {
   "cell_type": "code",
   "execution_count": 7,
   "metadata": {},
   "outputs": [],
   "source": [
    "qmarks = df.apply(lambda x: x.str.contains('\\?'))"
   ]
  },
  {
   "cell_type": "markdown",
   "metadata": {},
   "source": [
    "I'll take the sum of all the found question marks by column."
   ]
  },
  {
   "cell_type": "code",
   "execution_count": 8,
   "metadata": {},
   "outputs": [
    {
     "data": {
      "text/plain": [
       "0    0\n",
       "1    0\n",
       "2    0\n",
       "3    0\n",
       "4    0\n",
       "5    0\n",
       "6    0\n",
       "7    3\n",
       "8    0\n",
       "dtype: int64"
      ]
     },
     "execution_count": 8,
     "metadata": {},
     "output_type": "execute_result"
    }
   ],
   "source": [
    "(qmarks==1).sum()\n",
    "\n",
    "# https://stackoverflow.com/questions/27140860/count-occurrences-of-number-by-column-in-pandas-data-frame"
   ]
  },
  {
   "cell_type": "markdown",
   "metadata": {},
   "source": [
    "According to that result there are 3 question marks in the data, all of them in the column 7 indicating patient comfort.  These need to be handled in some fashion.  I'll check the count of the values found in column 7."
   ]
  },
  {
   "cell_type": "code",
   "execution_count": 9,
   "metadata": {},
   "outputs": [
    {
     "data": {
      "text/plain": [
       "10    65\n",
       "15    19\n",
       "?      3\n",
       "05     2\n",
       "07     1\n",
       "Name: 7, dtype: int64"
      ]
     },
     "execution_count": 9,
     "metadata": {},
     "output_type": "execute_result"
    }
   ],
   "source": [
    "df[7].value_counts()"
   ]
  },
  {
   "cell_type": "markdown",
   "metadata": {},
   "source": [
    "The majority of the values in that column are '10', however, I would rather not use that number but will instead find the mean and replace the missing values with that.  \n",
    "  I'll create a new column, 'comfort_int', that is the integer cast from the original patient comfort column.  "
   ]
  },
  {
   "cell_type": "code",
   "execution_count": 10,
   "metadata": {},
   "outputs": [],
   "source": [
    "df['comfort_int'] = pd.to_numeric(df[7], errors='coerce').fillna(0).astype(np.int64)"
   ]
  },
  {
   "cell_type": "code",
   "execution_count": 11,
   "metadata": {},
   "outputs": [
    {
     "data": {
      "text/plain": [
       "10.577777777777778"
      ]
     },
     "execution_count": 11,
     "metadata": {},
     "output_type": "execute_result"
    }
   ],
   "source": [
    "#df['15'].where(df['15'] == '?'#\n",
    "df['comfort_int'].mean()"
   ]
  },
  {
   "cell_type": "markdown",
   "metadata": {},
   "source": [
    "The mean was calculated at 10.57.  I'll use 11 to replace the missing values."
   ]
  },
  {
   "cell_type": "code",
   "execution_count": 12,
   "metadata": {},
   "outputs": [
    {
     "name": "stdout",
     "output_type": "stream",
     "text": [
      "       comfort_int\n",
      "count    90.000000\n",
      "mean     10.577778\n",
      "std       3.005530\n",
      "min       0.000000\n",
      "25%      10.000000\n",
      "50%      10.000000\n",
      "75%      10.000000\n",
      "max      15.000000\n",
      "      0     1          2     3       4         5           6   7   8  \\\n",
      "0   mid   low  excellent   mid  stable    stable      stable  15   A   \n",
      "1   mid  high  excellent  high  stable    stable      stable  10   S   \n",
      "2  high   low  excellent  high  stable    stable  mod-stable  10   A   \n",
      "3   mid   low       good  high  stable  unstable  mod-stable  15  A    \n",
      "4   mid   mid  excellent  high  stable    stable      stable  10   A   \n",
      "\n",
      "   comfort_int  \n",
      "0           15  \n",
      "1           10  \n",
      "2           10  \n",
      "3           15  \n",
      "4           10  \n"
     ]
    }
   ],
   "source": [
    "df.replace('?', '11', inplace=True)\n",
    "print(df.describe())\n",
    "print(df.head())"
   ]
  },
  {
   "cell_type": "markdown",
   "metadata": {},
   "source": [
    "The comfort_int column is no longer needed and will be dropped from the dataframe."
   ]
  },
  {
   "cell_type": "code",
   "execution_count": 13,
   "metadata": {},
   "outputs": [],
   "source": [
    "df.drop('comfort_int', axis=1, inplace=True)"
   ]
  },
  {
   "cell_type": "markdown",
   "metadata": {},
   "source": [
    "I'll rerun the function to find question marks to check my work."
   ]
  },
  {
   "cell_type": "code",
   "execution_count": 14,
   "metadata": {},
   "outputs": [],
   "source": [
    "qmarks = df.apply(lambda x: x.str.contains('\\?'))"
   ]
  },
  {
   "cell_type": "code",
   "execution_count": 15,
   "metadata": {},
   "outputs": [
    {
     "data": {
      "text/plain": [
       "0    0\n",
       "1    0\n",
       "2    0\n",
       "3    0\n",
       "4    0\n",
       "5    0\n",
       "6    0\n",
       "7    0\n",
       "8    0\n",
       "dtype: int64"
      ]
     },
     "execution_count": 15,
     "metadata": {},
     "output_type": "execute_result"
    }
   ],
   "source": [
    "(qmarks==1).sum()\n",
    "\n",
    "# https://stackoverflow.com/questions/27140860/count-occurrences-of-number-by-column-in-pandas-data-frame"
   ]
  },
  {
   "cell_type": "markdown",
   "metadata": {},
   "source": [
    "No question marks were found indicating a succesful replacement.  \n",
    "  \n",
    "  Next, I'm going to make a copy of the dataframe and encode the categorical variables."
   ]
  },
  {
   "cell_type": "code",
   "execution_count": 16,
   "metadata": {},
   "outputs": [],
   "source": [
    "# encode levels:\n",
    "# low=1\n",
    "# mid=2\n",
    "# high=3\n",
    "# stable=1\n",
    "# mod-stable=2\n",
    "# unstable=3\n",
    "# good=1\n",
    "# excellent=2\n",
    "dfc = df.copy()\n",
    "dfc.replace(['low', 'mid', 'high', 'stable', 'mod-stable', 'unstable', 'good', 'excellent', 'A', 'I', 'S' ], [1,2,3,1,2,3,1,2,2,1,3], inplace=True)"
   ]
  },
  {
   "cell_type": "markdown",
   "metadata": {},
   "source": [
    "Looking back on a previous describe function run on the dataframe something is off with the 8th column, 'decision'.  There is an \"A\" value that is aligned differently then the other values.  I suspect there may be a space added to the entry.  I'll check."
   ]
  },
  {
   "cell_type": "code",
   "execution_count": 17,
   "metadata": {},
   "outputs": [
    {
     "data": {
      "text/html": [
       "<div>\n",
       "<style scoped>\n",
       "    .dataframe tbody tr th:only-of-type {\n",
       "        vertical-align: middle;\n",
       "    }\n",
       "\n",
       "    .dataframe tbody tr th {\n",
       "        vertical-align: top;\n",
       "    }\n",
       "\n",
       "    .dataframe thead th {\n",
       "        text-align: right;\n",
       "    }\n",
       "</style>\n",
       "<table border=\"1\" class=\"dataframe\">\n",
       "  <thead>\n",
       "    <tr style=\"text-align: right;\">\n",
       "      <th></th>\n",
       "      <th>0</th>\n",
       "      <th>1</th>\n",
       "      <th>2</th>\n",
       "      <th>3</th>\n",
       "      <th>4</th>\n",
       "      <th>5</th>\n",
       "      <th>6</th>\n",
       "      <th>7</th>\n",
       "      <th>8</th>\n",
       "    </tr>\n",
       "  </thead>\n",
       "  <tbody>\n",
       "    <tr>\n",
       "      <th>3</th>\n",
       "      <td>mid</td>\n",
       "      <td>low</td>\n",
       "      <td>good</td>\n",
       "      <td>high</td>\n",
       "      <td>stable</td>\n",
       "      <td>unstable</td>\n",
       "      <td>mod-stable</td>\n",
       "      <td>15</td>\n",
       "      <td>A</td>\n",
       "    </tr>\n",
       "  </tbody>\n",
       "</table>\n",
       "</div>"
      ],
      "text/plain": [
       "     0    1     2     3       4         5           6   7   8\n",
       "3  mid  low  good  high  stable  unstable  mod-stable  15  A "
      ]
     },
     "execution_count": 17,
     "metadata": {},
     "output_type": "execute_result"
    }
   ],
   "source": [
    "df[df[8]=='A ']"
   ]
  },
  {
   "cell_type": "markdown",
   "metadata": {},
   "source": [
    "My guess was correct and there is an extra space added to row 3 for that entry.  I'll correct it, and any others, with a replacement to \"A\"."
   ]
  },
  {
   "cell_type": "code",
   "execution_count": 18,
   "metadata": {},
   "outputs": [],
   "source": [
    "df.replace('A ', 'A', inplace=True)"
   ]
  },
  {
   "cell_type": "code",
   "execution_count": 19,
   "metadata": {},
   "outputs": [
    {
     "name": "stdout",
     "output_type": "stream",
     "text": [
      "<class 'pandas.core.frame.DataFrame'>\n",
      "RangeIndex: 90 entries, 0 to 89\n",
      "Data columns (total 9 columns):\n",
      "0    90 non-null object\n",
      "1    90 non-null object\n",
      "2    90 non-null object\n",
      "3    90 non-null object\n",
      "4    90 non-null object\n",
      "5    90 non-null object\n",
      "6    90 non-null object\n",
      "7    90 non-null object\n",
      "8    90 non-null object\n",
      "dtypes: object(9)\n",
      "memory usage: 6.4+ KB\n",
      "None\n",
      "     0    1          2    3       4       5       6   7  8\n",
      "0  mid  low  excellent  mid  stable  stable  stable  15  A\n"
     ]
    }
   ],
   "source": [
    "print(df.info())\n",
    "print(df.head(1))"
   ]
  },
  {
   "cell_type": "markdown",
   "metadata": {},
   "source": [
    "At this point, I'm going to rename the columns to something more descriptive."
   ]
  },
  {
   "cell_type": "code",
   "execution_count": 20,
   "metadata": {},
   "outputs": [
    {
     "data": {
      "text/html": [
       "<div>\n",
       "<style scoped>\n",
       "    .dataframe tbody tr th:only-of-type {\n",
       "        vertical-align: middle;\n",
       "    }\n",
       "\n",
       "    .dataframe tbody tr th {\n",
       "        vertical-align: top;\n",
       "    }\n",
       "\n",
       "    .dataframe thead th {\n",
       "        text-align: right;\n",
       "    }\n",
       "</style>\n",
       "<table border=\"1\" class=\"dataframe\">\n",
       "  <thead>\n",
       "    <tr style=\"text-align: right;\">\n",
       "      <th></th>\n",
       "      <th>core_temp</th>\n",
       "      <th>surf_temp</th>\n",
       "      <th>o2sat</th>\n",
       "      <th>bp</th>\n",
       "      <th>stbl_surf_temp</th>\n",
       "      <th>stbl_core_temp</th>\n",
       "      <th>stbl_bp</th>\n",
       "      <th>comfort</th>\n",
       "      <th>decision</th>\n",
       "    </tr>\n",
       "  </thead>\n",
       "  <tbody>\n",
       "    <tr>\n",
       "      <th>0</th>\n",
       "      <td>2</td>\n",
       "      <td>1</td>\n",
       "      <td>2</td>\n",
       "      <td>2</td>\n",
       "      <td>1</td>\n",
       "      <td>1</td>\n",
       "      <td>1</td>\n",
       "      <td>15</td>\n",
       "      <td>2</td>\n",
       "    </tr>\n",
       "  </tbody>\n",
       "</table>\n",
       "</div>"
      ],
      "text/plain": [
       "   core_temp  surf_temp  o2sat  bp  stbl_surf_temp  stbl_core_temp  stbl_bp  \\\n",
       "0          2          1      2   2               1               1        1   \n",
       "\n",
       "  comfort decision  \n",
       "0      15        2  "
      ]
     },
     "execution_count": 20,
     "metadata": {},
     "output_type": "execute_result"
    }
   ],
   "source": [
    "# rename columns\n",
    "df.rename(columns={0 :'core_temp', 1:'surf_temp', 2:'o2sat', 3:'bp', \n",
    "                   4:'stbl_surf_temp', 5:'stbl_core_temp', 6:'stbl_bp', \n",
    "                   7:'comfort', 8:'decision'}, inplace=True)\n",
    "dfc.rename(columns={0 :'core_temp', 1:'surf_temp', 2:'o2sat', 3:'bp', \n",
    "                   4:'stbl_surf_temp', 5:'stbl_core_temp', 6:'stbl_bp', \n",
    "                   7:'comfort', 8:'decision'}, inplace=True)\n",
    "\n",
    "dfc.head(1)"
   ]
  },
  {
   "cell_type": "code",
   "execution_count": 21,
   "metadata": {},
   "outputs": [
    {
     "data": {
      "text/html": [
       "<div>\n",
       "<style scoped>\n",
       "    .dataframe tbody tr th:only-of-type {\n",
       "        vertical-align: middle;\n",
       "    }\n",
       "\n",
       "    .dataframe tbody tr th {\n",
       "        vertical-align: top;\n",
       "    }\n",
       "\n",
       "    .dataframe thead th {\n",
       "        text-align: right;\n",
       "    }\n",
       "</style>\n",
       "<table border=\"1\" class=\"dataframe\">\n",
       "  <thead>\n",
       "    <tr style=\"text-align: right;\">\n",
       "      <th></th>\n",
       "      <th>core_temp</th>\n",
       "      <th>surf_temp</th>\n",
       "      <th>o2sat</th>\n",
       "      <th>bp</th>\n",
       "      <th>stbl_surf_temp</th>\n",
       "      <th>stbl_core_temp</th>\n",
       "      <th>stbl_bp</th>\n",
       "      <th>comfort</th>\n",
       "      <th>decision</th>\n",
       "    </tr>\n",
       "  </thead>\n",
       "  <tbody>\n",
       "    <tr>\n",
       "      <th>count</th>\n",
       "      <td>90</td>\n",
       "      <td>90</td>\n",
       "      <td>90</td>\n",
       "      <td>90</td>\n",
       "      <td>90</td>\n",
       "      <td>90</td>\n",
       "      <td>90</td>\n",
       "      <td>90</td>\n",
       "      <td>90</td>\n",
       "    </tr>\n",
       "    <tr>\n",
       "      <th>unique</th>\n",
       "      <td>3</td>\n",
       "      <td>3</td>\n",
       "      <td>2</td>\n",
       "      <td>3</td>\n",
       "      <td>2</td>\n",
       "      <td>3</td>\n",
       "      <td>3</td>\n",
       "      <td>5</td>\n",
       "      <td>3</td>\n",
       "    </tr>\n",
       "    <tr>\n",
       "      <th>top</th>\n",
       "      <td>mid</td>\n",
       "      <td>mid</td>\n",
       "      <td>good</td>\n",
       "      <td>mid</td>\n",
       "      <td>stable</td>\n",
       "      <td>stable</td>\n",
       "      <td>stable</td>\n",
       "      <td>10</td>\n",
       "      <td>A</td>\n",
       "    </tr>\n",
       "    <tr>\n",
       "      <th>freq</th>\n",
       "      <td>58</td>\n",
       "      <td>48</td>\n",
       "      <td>47</td>\n",
       "      <td>57</td>\n",
       "      <td>45</td>\n",
       "      <td>83</td>\n",
       "      <td>46</td>\n",
       "      <td>65</td>\n",
       "      <td>64</td>\n",
       "    </tr>\n",
       "  </tbody>\n",
       "</table>\n",
       "</div>"
      ],
      "text/plain": [
       "       core_temp surf_temp o2sat   bp stbl_surf_temp stbl_core_temp stbl_bp  \\\n",
       "count         90        90    90   90             90             90      90   \n",
       "unique         3         3     2    3              2              3       3   \n",
       "top          mid       mid  good  mid         stable         stable  stable   \n",
       "freq          58        48    47   57             45             83      46   \n",
       "\n",
       "       comfort decision  \n",
       "count       90       90  \n",
       "unique       5        3  \n",
       "top         10        A  \n",
       "freq        65       64  "
      ]
     },
     "execution_count": 21,
     "metadata": {},
     "output_type": "execute_result"
    }
   ],
   "source": [
    "df.describe()"
   ]
  },
  {
   "cell_type": "markdown",
   "metadata": {},
   "source": [
    "I'd like to get an idea of the values in each column and their frequencies.  I'll use a for loop with value_counts to find them."
   ]
  },
  {
   "cell_type": "code",
   "execution_count": 22,
   "metadata": {},
   "outputs": [
    {
     "name": "stdout",
     "output_type": "stream",
     "text": [
      "---- core_temp ---\n",
      "mid     58\n",
      "low     19\n",
      "high    13\n",
      "Name: core_temp, dtype: int64\n",
      "---- surf_temp ---\n",
      "mid     48\n",
      "low     25\n",
      "high    17\n",
      "Name: surf_temp, dtype: int64\n",
      "---- o2sat ---\n",
      "good         47\n",
      "excellent    43\n",
      "Name: o2sat, dtype: int64\n",
      "---- bp ---\n",
      "mid     57\n",
      "high    30\n",
      "low      3\n",
      "Name: bp, dtype: int64\n",
      "---- stbl_surf_temp ---\n",
      "stable      45\n",
      "unstable    45\n",
      "Name: stbl_surf_temp, dtype: int64\n",
      "---- stbl_core_temp ---\n",
      "stable        83\n",
      "unstable       6\n",
      "mod-stable     1\n",
      "Name: stbl_core_temp, dtype: int64\n",
      "---- stbl_bp ---\n",
      "stable        46\n",
      "unstable      23\n",
      "mod-stable    21\n",
      "Name: stbl_bp, dtype: int64\n",
      "---- comfort ---\n",
      "10    65\n",
      "15    19\n",
      "11     3\n",
      "05     2\n",
      "07     1\n",
      "Name: comfort, dtype: int64\n",
      "---- decision ---\n",
      "A    64\n",
      "S    24\n",
      "I     2\n",
      "Name: decision, dtype: int64\n"
     ]
    }
   ],
   "source": [
    "for c in df.columns:\n",
    "    print (\"---- %s ---\" % c)\n",
    "    print (df[c].value_counts())"
   ]
  },
  {
   "cell_type": "markdown",
   "metadata": {},
   "source": [
    "## Feature Analysis\n",
    "I'm now ready to explore the data in greater depth by plotting various features.  \n",
    "I'll begin with a boxplot of all the features."
   ]
  },
  {
   "cell_type": "code",
   "execution_count": 23,
   "metadata": {},
   "outputs": [
    {
     "data": {
      "image/png": "[encoded data removed]",
      "text/plain": [
       "<Figure size 360x360 with 1 Axes>"
      ]
     },
     "metadata": {
      "needs_background": "light"
     },
     "output_type": "display_data"
    }
   ],
   "source": [
    "d = dfc.loc[:, dfc.columns]\n",
    "sns.catplot(data=d, orient = 'h', kind=\"box\");"
   ]
  },
  {
   "cell_type": "markdown",
   "metadata": {},
   "source": [
    "It's obvious that this plot is being affected by the comfort series.  I'll remove it and replot to get a better view of the remaining series."
   ]
  },
  {
   "cell_type": "code",
   "execution_count": 24,
   "metadata": {},
   "outputs": [
    {
     "data": {
      "image/png": "[encoded data removed]",
      "text/plain": [
       "<Figure size 360x360 with 1 Axes>"
      ]
     },
     "metadata": {
      "needs_background": "light"
     },
     "output_type": "display_data"
    }
   ],
   "source": [
    "d = dfc.loc[:, dfc.columns != 'comfort']\n",
    "sns.catplot(data=d, orient = 'h', kind=\"box\");"
   ]
  },
  {
   "cell_type": "markdown",
   "metadata": {},
   "source": [
    "After some thought, it appears that there are several patterns found in the distribution of the data.  For instance, core temperature and stability of core temperature have the majority of their points found at the mean with several outliers.  O2 saturation has no values at the high end with the remainder spread across the low and mid points.  \n",
    "Blood pressure and surface temp are similar with the exception of outliers at the low and high ends, respectively.  \n",
    "Stability of surface temperature and stability of blood pressure seem to be the most uniformly distributed features."
   ]
  },
  {
   "cell_type": "markdown",
   "metadata": {},
   "source": [
    "To further exam the distribution I'll use Seaborn to plot counts of various series."
   ]
  },
  {
   "cell_type": "code",
   "execution_count": 25,
   "metadata": {},
   "outputs": [
    {
     "data": {
      "image/png": "[encoded data removed]",
      "text/plain": [
       "<Figure size 420.475x360 with 1 Axes>"
      ]
     },
     "metadata": {
      "needs_background": "light"
     },
     "output_type": "display_data"
    }
   ],
   "source": [
    "sns.catplot(y=\"decision\", hue=\"core_temp\", kind=\"count\",\n",
    "            palette=\"pastel\", edgecolor=\".6\",\n",
    "            data=df);"
   ]
  },
  {
   "cell_type": "code",
   "execution_count": 26,
   "metadata": {},
   "outputs": [
    {
     "data": {
      "image/png": "[encoded data removed]",
      "text/plain": [
       "<Figure size 454.35x360 with 1 Axes>"
      ]
     },
     "metadata": {
      "needs_background": "light"
     },
     "output_type": "display_data"
    }
   ],
   "source": [
    "sns.catplot(y=\"decision\", hue=\"stbl_bp\", kind=\"count\",\n",
    "            palette=\"pastel\", edgecolor=\".6\",\n",
    "            data=df);"
   ]
  },
  {
   "cell_type": "code",
   "execution_count": 27,
   "metadata": {},
   "outputs": [
    {
     "data": {
      "image/png": "[encoded data removed]",
      "text/plain": [
       "<Figure size 441.35x360 with 1 Axes>"
      ]
     },
     "metadata": {
      "needs_background": "light"
     },
     "output_type": "display_data"
    }
   ],
   "source": [
    "sns.catplot(y=\"decision\", hue=\"stbl_surf_temp\", kind=\"count\",\n",
    "            palette=\"pastel\", edgecolor=\".6\",\n",
    "            data=df);"
   ]
  },
  {
   "cell_type": "code",
   "execution_count": 28,
   "metadata": {},
   "outputs": [
    {
     "data": {
      "image/png": "[encoded data removed]",
      "text/plain": [
       "<Figure size 454.35x360 with 1 Axes>"
      ]
     },
     "metadata": {
      "needs_background": "light"
     },
     "output_type": "display_data"
    }
   ],
   "source": [
    "sns.catplot(y=\"decision\", hue=\"stbl_core_temp\", kind=\"count\",\n",
    "            palette=\"pastel\", edgecolor=\".6\",\n",
    "            data=df);"
   ]
  },
  {
   "cell_type": "code",
   "execution_count": 29,
   "metadata": {},
   "outputs": [
    {
     "data": {
      "image/png": "[encoded data removed]",
      "text/plain": [
       "<Figure size 432x288 with 1 Axes>"
      ]
     },
     "metadata": {
      "needs_background": "light"
     },
     "output_type": "display_data"
    }
   ],
   "source": [
    "def hist_viz(df,feature):\n",
    "    ax = sns.distplot(dfc[feature])\n",
    "    plt.xlabel(feature)\n",
    "    plt.show()\n",
    "hist_viz(df,'stbl_core_temp')"
   ]
  },
  {
   "cell_type": "code",
   "execution_count": 30,
   "metadata": {},
   "outputs": [
    {
     "data": {
      "image/png": "[encoded data removed]",
      "text/plain": [
       "<Figure size 432x288 with 1 Axes>"
      ]
     },
     "metadata": {
      "needs_background": "light"
     },
     "output_type": "display_data"
    }
   ],
   "source": [
    "def hist_viz(df,feature):\n",
    "    ax = sns.distplot(dfc[feature])\n",
    "    plt.xlabel(feature)\n",
    "    plt.show()\n",
    "hist_viz(df,'stbl_surf_temp')"
   ]
  },
  {
   "cell_type": "code",
   "execution_count": 31,
   "metadata": {},
   "outputs": [
    {
     "data": {
      "image/png": "[encoded data removed]",
      "text/plain": [
       "<Figure size 432x288 with 1 Axes>"
      ]
     },
     "metadata": {
      "needs_background": "light"
     },
     "output_type": "display_data"
    }
   ],
   "source": [
    "def hist_viz(df,feature):\n",
    "    ax = sns.distplot(dfc[feature])\n",
    "    plt.xlabel(feature)\n",
    "    plt.show()\n",
    "hist_viz(df,'stbl_bp')"
   ]
  },
  {
   "cell_type": "markdown",
   "metadata": {},
   "source": [
    "These counts and histograms help to further visualize the results of the boxplot.  In particular, they help to confirm the impresion that stability of blood pressure and surface temperature are the most uniformly distributed.  \n",
    "My understanding of machine learning, feature analysis and model tuning is limited at this point in my academic career.  I can only guess at the significance to a machine learning algorithim of uniformly distributed data.  I would tend to believe that a highly skewed data set would result in a poorly performing model.  "
   ]
  },
  {
   "cell_type": "markdown",
   "metadata": {},
   "source": [
    "## Random Forest Model\n",
    "Considering my data is largely categorical (the exception being patient comfort) and that I am attempting to classify a patient's post-operative discharge status which is chosen from a multifactor category, I decided to use a Random Forest model.  Researching algorithims it seems Random Forests are a good choice for classifying categorical data with a multifactorial response variable."
   ]
  },
  {
   "cell_type": "markdown",
   "metadata": {},
   "source": [
    "To begin, I will use the get_dummies method to create dummy variables from the categorical data.  To avoid covariance issues I will drop the reference variable from each series."
   ]
  },
  {
   "cell_type": "code",
   "execution_count": 32,
   "metadata": {},
   "outputs": [
    {
     "data": {
      "text/plain": [
       "Index(['core_temp_low', 'core_temp_mid', 'surf_temp_low', 'surf_temp_mid',\n",
       "       'o2sat_good', 'bp_low', 'bp_mid', 'stbl_surf_temp_unstable',\n",
       "       'stbl_core_temp_stable', 'stbl_core_temp_unstable', 'stbl_bp_stable',\n",
       "       'stbl_bp_unstable', 'decision_I', 'decision_S'],\n",
       "      dtype='object')"
      ]
     },
     "execution_count": 32,
     "metadata": {},
     "output_type": "execute_result"
    }
   ],
   "source": [
    "df_dummy = pd.get_dummies(df[['core_temp', 'surf_temp', 'o2sat', 'bp', 'stbl_surf_temp', 'stbl_core_temp', 'stbl_bp', 'decision']], drop_first=True)\n",
    "df_dummy.columns"
   ]
  },
  {
   "cell_type": "markdown",
   "metadata": {},
   "source": [
    "Now that dummy variables are created I can split the data into source and target data.  \n",
    "In this case, the target data are the dummy variabes created from the 'decision' series with source data consisting of the remaining series."
   ]
  },
  {
   "cell_type": "code",
   "execution_count": 33,
   "metadata": {},
   "outputs": [],
   "source": [
    "# split data into source (X) and target (y)\n",
    "data_cols = ['core_temp_low', 'core_temp_mid', 'surf_temp_low', 'surf_temp_mid', 'bp_low', 'bp_mid', 'stbl_surf_temp_unstable',\n",
    "       'o2sat_good','stbl_core_temp_stable', 'stbl_core_temp_unstable', 'stbl_bp_stable', 'stbl_bp_unstable']\n",
    "target_cols = ['decision_I', 'decision_S']\n",
    "\n",
    "X = df_dummy[data_cols]\n",
    "y = df_dummy[target_cols]"
   ]
  },
  {
   "cell_type": "markdown",
   "metadata": {},
   "source": [
    "I'm now ready to split the data into train and test sets.  I'll use train_test_split to do this.  The test size will be set at 30% of the data and a random seed established for reproducibility."
   ]
  },
  {
   "cell_type": "code",
   "execution_count": 34,
   "metadata": {},
   "outputs": [],
   "source": [
    "from sklearn.model_selection import train_test_split\n",
    "\n",
    "X_train, X_test, y_train, y_test = train_test_split(X, y, test_size=0.3, random_state=42)"
   ]
  },
  {
   "cell_type": "markdown",
   "metadata": {},
   "source": [
    "RandomForestClassifier will be imported along with accuracy_score from the sci kit learn library.  \n",
    "An instance of the classifier will be created, the model will be fit using the training data and then used to make a prediction on the test data set.  \n",
    "Finally, the accuracy of the model will be calculated using accuracy_score."
   ]
  },
  {
   "cell_type": "code",
   "execution_count": 35,
   "metadata": {},
   "outputs": [
    {
     "data": {
      "text/plain": [
       "0.7777777777777778"
      ]
     },
     "execution_count": 35,
     "metadata": {},
     "output_type": "execute_result"
    }
   ],
   "source": [
    "from sklearn.ensemble import RandomForestClassifier\n",
    "from sklearn.metrics import accuracy_score\n",
    "# from sklearn.feature_extraction.text import CountVectorizer\n",
    "\n",
    "model = RandomForestClassifier()\n",
    "model.fit(X_train, y_train)\n",
    "y_predict = model.predict(X_test)\n",
    "\n",
    "accuracy_score(y_test.values, y_predict)"
   ]
  },
  {
   "cell_type": "markdown",
   "metadata": {},
   "source": [
    "The first pass of this model has yielded an accuracy score of 74%.  This is a respectable level of accuracy, however, I believe that using all of the independent variables in the data set has contributed significant noise to the model.  Further tuning of the model will likely yield a better score.  \n",
    "### Tune model\n",
    "Based on the earlier feature analysis I suspect removing some features, specifically bp, surf_temp, and o2sat will decrease the noise and yield a better result.  \n",
    "I will rebuild the test and train data sets without those features and rerun the model."
   ]
  },
  {
   "cell_type": "code",
   "execution_count": 36,
   "metadata": {},
   "outputs": [],
   "source": [
    "# split data into source (X) and target (y)\n",
    "data_cols = ['core_temp_low', 'core_temp_mid', 'stbl_surf_temp_unstable',\n",
    "       'stbl_core_temp_stable', 'stbl_core_temp_unstable', 'stbl_bp_stable', \n",
    "        'stbl_bp_unstable']\n",
    "target_cols = ['decision_I', 'decision_S']\n",
    "\n",
    "X = df_dummy[data_cols]\n",
    "y = df_dummy[target_cols]"
   ]
  },
  {
   "cell_type": "code",
   "execution_count": 37,
   "metadata": {},
   "outputs": [],
   "source": [
    "from sklearn.model_selection import train_test_split\n",
    "\n",
    "X_train, X_test, y_train, y_test = train_test_split(X, y, test_size=0.3, random_state=42)"
   ]
  },
  {
   "cell_type": "code",
   "execution_count": 38,
   "metadata": {},
   "outputs": [
    {
     "data": {
      "text/plain": [
       "0.8888888888888888"
      ]
     },
     "execution_count": 38,
     "metadata": {},
     "output_type": "execute_result"
    }
   ],
   "source": [
    "from sklearn.ensemble import RandomForestClassifier\n",
    "from sklearn.metrics import accuracy_score\n",
    "# from sklearn.feature_extraction.text import CountVectorizer\n",
    "\n",
    "model = RandomForestClassifier()\n",
    "# vec = CountVectorizer()\n",
    "# X = vec.fit_transform(df)\n",
    "model.fit(X_train, y_train)\n",
    "y_predict = model.predict(X_test)\n",
    "\n",
    "accuracy_score(y_test.values, y_predict)"
   ]
  },
  {
   "cell_type": "markdown",
   "metadata": {},
   "source": [
    "As suspected, removing those oddly distributed features has increased the accuracy of the model to 81.5%  \n",
    "Going back to the earlier plots I'm curious to see how the model will perform with only the uniformly distributed features provided as input variable.  \n",
    "I'll remove the rest of the features and leave only the stability of blood pressure and surface temperature features.\n"
   ]
  },
  {
   "cell_type": "code",
   "execution_count": 39,
   "metadata": {},
   "outputs": [],
   "source": [
    "# split data into source (X) and target (y)\n",
    "data_cols = [ 'stbl_surf_temp_unstable', 'stbl_bp_stable', 'stbl_bp_unstable']\n",
    "target_cols = ['decision_I', 'decision_S']\n",
    "\n",
    "X = df_dummy[data_cols]\n",
    "y = df_dummy[target_cols]"
   ]
  },
  {
   "cell_type": "code",
   "execution_count": 42,
   "metadata": {},
   "outputs": [],
   "source": [
    "from sklearn.model_selection import train_test_split, GridSearchCV\n",
    "\n",
    "X_train, X_test, y_train, y_test = train_test_split(X, y, test_size=0.3, random_state=42)"
   ]
  },
  {
   "cell_type": "code",
   "execution_count": 192,
   "metadata": {},
   "outputs": [
    {
     "data": {
      "text/plain": [
       "0.8888888888888888"
      ]
     },
     "execution_count": 192,
     "metadata": {},
     "output_type": "execute_result"
    }
   ],
   "source": [
    "from sklearn.ensemble import RandomForestClassifier\n",
    "from sklearn.metrics import accuracy_score\n",
    "\n",
    "model = RandomForestClassifier()\n",
    "# vec = CountVectorizer()\n",
    "# X = vec.fit_transform(df)\n",
    "model.fit(X_train, y_train)\n",
    "y_predict = model.predict(X_test)\n",
    "\n",
    "accuracy_score(y_test.values, y_predict)"
   ]
  },
  {
   "cell_type": "markdown",
   "metadata": {},
   "source": [
    "### GridSearchCV"
   ]
  },
  {
   "cell_type": "code",
   "execution_count": 44,
   "metadata": {},
   "outputs": [
    {
     "name": "stdout",
     "output_type": "stream",
     "text": [
      "Best Parameters using grid search: \n",
      " {'bootstrap': True, 'criterion': 'entropy', 'max_depth': 2, 'max_features': 'auto'}\n"
     ]
    }
   ],
   "source": [
    "param_dist = {'max_depth': [2, 3, 4],\n",
    "              'bootstrap': [True, False],\n",
    "              'max_features': ['auto', 'sqrt', 'log2', None],\n",
    "              'criterion': ['gini', 'entropy']}\n",
    "\n",
    "cv_rf = GridSearchCV(model, cv = 10,\n",
    "                     param_grid=param_dist,\n",
    "                     n_jobs = 3)\n",
    "\n",
    "cv_rf.fit(X_train, y_train)\n",
    "print('Best Parameters using grid search: \\n',\n",
    "      cv_rf.best_params_)"
   ]
  },
  {
   "cell_type": "code",
   "execution_count": 50,
   "metadata": {},
   "outputs": [
    {
     "data": {
      "text/plain": [
       "0.8888888888888888"
      ]
     },
     "execution_count": 50,
     "metadata": {},
     "output_type": "execute_result"
    }
   ],
   "source": [
    "model = RandomForestClassifier(bootstrap= True, criterion= 'entropy', max_depth= 2, max_features= 'auto')\n",
    "model.fit(X_train, y_train)\n",
    "y_predict = model.predict(X_test)\n",
    "\n",
    "accuracy_score(y_test.values, y_predict)"
   ]
  },
  {
   "cell_type": "markdown",
   "metadata": {},
   "source": [
    "RERUN THE RF MODEL WITH THE NEW PARAMETERS ON THE ENTIRE DF (BEFORE REMOVING FEATURES)  \n",
    "\n",
    "  Accuracy of the model has jumped to 89%.  At this point with my limited knowledge of algorithim tuning I'm considering this model fully optimized.  \n",
    "\n",
    "\n",
    "## Final Analysis\n",
    "In conclusion, it appears that the answer to the analysis question posed at the beginning of the project is that it is possible to predict the discharge status with a high level of accuracy.  The analysis was useful in that it refined the model by reducing the number of input features.  The two remaining features, stability of surface body temperature and stability of blood pressure were sufficient to obtain 89% accuracy.  \n",
    "  \n",
    "  This analysis would benefit from a larger data set in the future.  The total population of observations was 90 patients.  \n",
    "    \n",
    "I learned quite a bit about machine learning during this assignement.  My early attempts at selecting a model were based on little experience with machine learning.  This led to selecting inappropriate models - linear regression, for instance - for this data set.  In addition, the categorical nature of the data reduced the number of models significantly, which I only discovered after much research.  \n",
    "  \n",
    "  Future work on this analysis could involve the use of other models, other techniques for feature engineering and model tuning.  "
   ]
  }
 ],
 "metadata": {
  "kernelspec": {
   "display_name": "Python 3",
   "language": "python",
   "name": "python3"
  },
  "language_info": {
   "codemirror_mode": {
    "name": "ipython",
    "version": 3
   },
   "file_extension": ".py",
   "mimetype": "text/x-python",
   "name": "python",
   "nbconvert_exporter": "python",
   "pygments_lexer": "ipython3",
   "version": "3.7.1"
  }
 },
 "nbformat": 4,
 "nbformat_minor": 2
}
